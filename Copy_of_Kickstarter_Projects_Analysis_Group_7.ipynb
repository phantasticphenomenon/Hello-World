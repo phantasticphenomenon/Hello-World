{
  "nbformat": 4,
  "nbformat_minor": 0,
  "metadata": {
    "colab": {
      "name": "Copy of Kickstarter_Projects_Analysis_Group_7.ipynb",
      "provenance": [],
      "collapsed_sections": [],
      "include_colab_link": true
    },
    "kernelspec": {
      "name": "python3",
      "display_name": "Python 3"
    }
  },
  "cells": [
    {
      "cell_type": "markdown",
      "metadata": {
        "id": "view-in-github",
        "colab_type": "text"
      },
      "source": [
        "<a href=\"https://colab.research.google.com/github/phantasticphenomenon/Hello-World/blob/master/Copy_of_Kickstarter_Projects_Analysis_Group_7.ipynb\" target=\"_parent\"><img src=\"https://colab.research.google.com/assets/colab-badge.svg\" alt=\"Open In Colab\"/></a>"
      ]
    },
    {
      "cell_type": "code",
      "metadata": {
        "id": "iCkOL9I_qrUi",
        "colab_type": "code",
        "outputId": "c8065283-f0af-43a7-cf34-ce9270f3fdb4",
        "colab": {
          "resources": {
            "http://localhost:8080/nbextensions/google.colab/files.js": {
              "data": "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",
              "ok": true,
              "headers": [
                [
                  "content-type",
                  "application/javascript"
                ]
              ],
              "status": 200,
              "status_text": ""
            }
          },
          "base_uri": "https://localhost:8080/",
          "height": 88
        }
      },
      "source": [
        "'''\n",
        "Welcome, guys!\n",
        "I wrote a couple of lines of code up here at the top that uses an API to \n",
        "download the data direcly from Kaggle and into the COLAB notebook\n",
        "That way we don't have to copy-paste our work in and out of COLAB all the time\n",
        "to work with the data locally (from our computers)\n",
        "Y'all should be able to directly run all the code from here and have it work \n",
        "seamlessly\n",
        "I'll make sure the code is clean before I'm done. If you have any trouble \n",
        "running it its likely an API problem\n",
        "Contact me on What's App and I'll help you out\n",
        "-Nadia\n",
        "'''\n",
        "\n",
        "#Upload Kaggle API from local\n",
        "from google.colab import files\n",
        "files.upload()"
      ],
      "execution_count": 0,
      "outputs": [
        {
          "output_type": "display_data",
          "data": {
            "text/html": [
              "\n",
              "     <input type=\"file\" id=\"files-5e662df5-b528-4b3b-b1e7-421093b00049\" name=\"files[]\" multiple disabled />\n",
              "     <output id=\"result-5e662df5-b528-4b3b-b1e7-421093b00049\">\n",
              "      Upload widget is only available when the cell has been executed in the\n",
              "      current browser session. Please rerun this cell to enable.\n",
              "      </output>\n",
              "      <script src=\"/nbextensions/google.colab/files.js\"></script> "
            ],
            "text/plain": [
              "<IPython.core.display.HTML object>"
            ]
          },
          "metadata": {
            "tags": []
          }
        },
        {
          "output_type": "stream",
          "text": [
            "Saving kaggle.json to kaggle (1).json\n"
          ],
          "name": "stdout"
        },
        {
          "output_type": "execute_result",
          "data": {
            "text/plain": [
              "{'kaggle.json': b'{\"username\":\"nadiakrieger\",\"key\":\"872d86bf9faa31dd8ce8c8f48c4b5d4d\"}'}"
            ]
          },
          "metadata": {
            "tags": []
          },
          "execution_count": 43
        }
      ]
    },
    {
      "cell_type": "code",
      "metadata": {
        "id": "ZljJQuuBqw7G",
        "colab_type": "code",
        "outputId": "9500a2fc-4b72-4f81-9411-4145d54fc6df",
        "colab": {
          "base_uri": "https://localhost:8080/",
          "height": 309
        }
      },
      "source": [
        "# Move API client into ~/.kaggle directory\n",
        "!mkdir -p ~/.kaggle\n",
        "!cp kaggle.json ~/.kaggle/\n",
        "\n",
        "# This permissions change avoids a warning on Kaggle tool startup.\n",
        "!chmod 600 ~/.kaggle/kaggle.json\n",
        "\n",
        "#Download kickstarter dataset\n",
        "!kaggle datasets download -d kemical/kickstarter-projects\n",
        "\n",
        "#unzip the dataset\n",
        "!unzip kickstarter-projects.zip\n",
        "\n",
        "#show first five rows of kickstarter dataset\n",
        "!head ks-projects-201801.csv\n",
        "\n",
        "#End Nadia/API Code"
      ],
      "execution_count": 0,
      "outputs": [
        {
          "output_type": "stream",
          "text": [
            "kickstarter-projects.zip: Skipping, found more recently modified local copy (use --force to force download)\n",
            "Archive:  kickstarter-projects.zip\n",
            "replace ks-projects-201612.csv? [y]es, [n]o, [A]ll, [N]one, [r]ename: y\n",
            "  inflating: ks-projects-201612.csv  \n",
            "replace ks-projects-201801.csv? [y]es, [n]o, [A]ll, [N]one, [r]ename: y\n",
            "  inflating: ks-projects-201801.csv  \n",
            "ID,name,category,main_category,currency,deadline,goal,launched,pledged,state,backers,country,usd pledged,usd_pledged_real,usd_goal_real\n",
            "1000002330,The Songs of Adelaide & Abullah,Poetry,Publishing,GBP,2015-10-09,1000.00,2015-08-11 12:12:28,0.00,failed,0,GB,0.00,0.00,1533.95\n",
            "1000003930,Greeting From Earth: ZGAC Arts Capsule For ET,Narrative Film,Film & Video,USD,2017-11-01,30000.00,2017-09-02 04:43:57,2421.00,failed,15,US,100.00,2421.00,30000.00\n",
            "1000004038,Where is Hank?,Narrative Film,Film & Video,USD,2013-02-26,45000.00,2013-01-12 00:20:50,220.00,failed,3,US,220.00,220.00,45000.00\n",
            "1000007540,ToshiCapital Rekordz Needs Help to Complete Album,Music,Music,USD,2012-04-16,5000.00,2012-03-17 03:24:11,1.00,failed,1,US,1.00,1.00,5000.00\n",
            "1000011046,Community Film Project: The Art of Neighborhood Filmmaking,Film & Video,Film & Video,USD,2015-08-29,19500.00,2015-07-04 08:35:03,1283.00,canceled,14,US,1283.00,1283.00,19500.00\n",
            "1000014025,Monarch Espresso Bar,Restaurants,Food,USD,2016-04-01,50000.00,2016-02-26 13:38:27,52375.00,successful,224,US,52375.00,52375.00,50000.00\n",
            "1000023410,Support Solar Roasted Coffee & Green Energy!  SolarCoffee.co,Food,Food,USD,2014-12-21,1000.00,2014-12-01 18:30:44,1205.00,successful,16,US,1205.00,1205.00,1000.00\n",
            "1000030581,Chaser Strips. Our Strips make Shots their B*tch!,Drinks,Food,USD,2016-03-17,25000.00,2016-02-01 20:05:12,453.00,failed,40,US,453.00,453.00,25000.00\n",
            "1000034518,SPIN - Premium Retractable In-Ear Headphones with Mic,Product Design,Design,USD,2014-05-29,125000.00,2014-04-24 18:14:43,8233.00,canceled,58,US,8233.00,8233.00,125000.00\n"
          ],
          "name": "stdout"
        }
      ]
    },
    {
      "cell_type": "code",
      "metadata": {
        "id": "agn0vVMM7K32",
        "colab_type": "code",
        "outputId": "6fbd72e8-e356-468f-d62a-3bbf45d7c763",
        "colab": {
          "base_uri": "https://localhost:8080/",
          "height": 445
        }
      },
      "source": [
        "# load packages\n",
        "import pandas as pd\n",
        "import numpy as np\n",
        "import matplotlib.pyplot as plt\n",
        "import seaborn as sns\n",
        "%matplotlib inline\n",
        "\n",
        "# Prevents old/out of date Python warnings form appearing\n",
        "from pandas import Series, DataFrame\n",
        "\n",
        "#Import the .csv file into DataFrame and separate by commas\n",
        "df = pd.read_csv('ks-projects-201801.csv', sep = ',', parse_dates= ['deadline','launched'],header = 0)\n",
        "\n",
        "#Converting Launched column into a Date/Time format to prevent having different formats for comparing start and end dates\n",
        "df[\"launched\"]= df[\"launched\"].astype(str)\n",
        "df[\"launched\"] = df[\"launched\"].str[:10]\n",
        "df[\"launched\"]= df[\"launched\"].astype(str)\n",
        "df[\"launched\"] = pd.to_datetime(df[\"launched\"])\n",
        "\n",
        "#Created new DataFrame df2. Dropped the usd_pledged column due to innacuracies in conversion rates. Dropped any Null values\n",
        "df2 = df.drop(index =[166851, 307234, 309991, 338931], columns=['usd pledged'])\n",
        "\n",
        "#Created column to determine the length of each Kickstarter Project by subtracting start date form end date.\n",
        "df2[\"campaign_length_in_days\"] = df2[\"deadline\"].sub(df2[\"launched\"], axis=0)\n",
        "df2[\"campaign_length_in_days\"] = df2[\"campaign_length_in_days\"] / np.timedelta64(1, 'D')\n",
        "\n",
        "#Determines actual day of the week Sun-Sat of both launch and end dates. Adds 2 columns for each respective.\n",
        "df2[\"day_started\"] = df2[\"launched\"].dt.day_name()\n",
        "df2[\"day_ended\"] = df2[\"deadline\"].dt.day_name()\n",
        "\n",
        "#Creates a new column to determine average dollar donation for each backer. Replaces any null values with 0. Rounds values to 2 decimal places.\n",
        "'''Add the average donation'''\n",
        "df2[\"average_donation_per_backer\"] = df2[\"usd_pledged_real\"]/df2[\"backers\"]\n",
        "df2[\"average_donation_per_backer\"].fillna(0, inplace=True)\n",
        "df2[\"average_donation_per_backer\"].astype(float)\n",
        "df2 = df2.round({'average_donation_per_backer': 2})\n",
        "\n",
        "df2.head()"
      ],
      "execution_count": 0,
      "outputs": [
        {
          "output_type": "execute_result",
          "data": {
            "text/html": [
              "<div>\n",
              "<style scoped>\n",
              "    .dataframe tbody tr th:only-of-type {\n",
              "        vertical-align: middle;\n",
              "    }\n",
              "\n",
              "    .dataframe tbody tr th {\n",
              "        vertical-align: top;\n",
              "    }\n",
              "\n",
              "    .dataframe thead th {\n",
              "        text-align: right;\n",
              "    }\n",
              "</style>\n",
              "<table border=\"1\" class=\"dataframe\">\n",
              "  <thead>\n",
              "    <tr style=\"text-align: right;\">\n",
              "      <th></th>\n",
              "      <th>ID</th>\n",
              "      <th>name</th>\n",
              "      <th>category</th>\n",
              "      <th>main_category</th>\n",
              "      <th>currency</th>\n",
              "      <th>deadline</th>\n",
              "      <th>goal</th>\n",
              "      <th>launched</th>\n",
              "      <th>pledged</th>\n",
              "      <th>state</th>\n",
              "      <th>backers</th>\n",
              "      <th>country</th>\n",
              "      <th>usd_pledged_real</th>\n",
              "      <th>usd_goal_real</th>\n",
              "      <th>campaign_length_in_days</th>\n",
              "      <th>day_started</th>\n",
              "      <th>day_ended</th>\n",
              "      <th>average_donation_per_backer</th>\n",
              "    </tr>\n",
              "  </thead>\n",
              "  <tbody>\n",
              "    <tr>\n",
              "      <th>0</th>\n",
              "      <td>1000002330</td>\n",
              "      <td>The Songs of Adelaide &amp; Abullah</td>\n",
              "      <td>Poetry</td>\n",
              "      <td>Publishing</td>\n",
              "      <td>GBP</td>\n",
              "      <td>2015-10-09</td>\n",
              "      <td>1000.0</td>\n",
              "      <td>2015-08-11</td>\n",
              "      <td>0.0</td>\n",
              "      <td>failed</td>\n",
              "      <td>0</td>\n",
              "      <td>GB</td>\n",
              "      <td>0.0</td>\n",
              "      <td>1533.95</td>\n",
              "      <td>59.0</td>\n",
              "      <td>Tuesday</td>\n",
              "      <td>Friday</td>\n",
              "      <td>0.00</td>\n",
              "    </tr>\n",
              "    <tr>\n",
              "      <th>1</th>\n",
              "      <td>1000003930</td>\n",
              "      <td>Greeting From Earth: ZGAC Arts Capsule For ET</td>\n",
              "      <td>Narrative Film</td>\n",
              "      <td>Film &amp; Video</td>\n",
              "      <td>USD</td>\n",
              "      <td>2017-11-01</td>\n",
              "      <td>30000.0</td>\n",
              "      <td>2017-09-02</td>\n",
              "      <td>2421.0</td>\n",
              "      <td>failed</td>\n",
              "      <td>15</td>\n",
              "      <td>US</td>\n",
              "      <td>2421.0</td>\n",
              "      <td>30000.00</td>\n",
              "      <td>60.0</td>\n",
              "      <td>Saturday</td>\n",
              "      <td>Wednesday</td>\n",
              "      <td>161.40</td>\n",
              "    </tr>\n",
              "    <tr>\n",
              "      <th>2</th>\n",
              "      <td>1000004038</td>\n",
              "      <td>Where is Hank?</td>\n",
              "      <td>Narrative Film</td>\n",
              "      <td>Film &amp; Video</td>\n",
              "      <td>USD</td>\n",
              "      <td>2013-02-26</td>\n",
              "      <td>45000.0</td>\n",
              "      <td>2013-01-12</td>\n",
              "      <td>220.0</td>\n",
              "      <td>failed</td>\n",
              "      <td>3</td>\n",
              "      <td>US</td>\n",
              "      <td>220.0</td>\n",
              "      <td>45000.00</td>\n",
              "      <td>45.0</td>\n",
              "      <td>Saturday</td>\n",
              "      <td>Tuesday</td>\n",
              "      <td>73.33</td>\n",
              "    </tr>\n",
              "    <tr>\n",
              "      <th>3</th>\n",
              "      <td>1000007540</td>\n",
              "      <td>ToshiCapital Rekordz Needs Help to Complete Album</td>\n",
              "      <td>Music</td>\n",
              "      <td>Music</td>\n",
              "      <td>USD</td>\n",
              "      <td>2012-04-16</td>\n",
              "      <td>5000.0</td>\n",
              "      <td>2012-03-17</td>\n",
              "      <td>1.0</td>\n",
              "      <td>failed</td>\n",
              "      <td>1</td>\n",
              "      <td>US</td>\n",
              "      <td>1.0</td>\n",
              "      <td>5000.00</td>\n",
              "      <td>30.0</td>\n",
              "      <td>Saturday</td>\n",
              "      <td>Monday</td>\n",
              "      <td>1.00</td>\n",
              "    </tr>\n",
              "    <tr>\n",
              "      <th>4</th>\n",
              "      <td>1000011046</td>\n",
              "      <td>Community Film Project: The Art of Neighborhoo...</td>\n",
              "      <td>Film &amp; Video</td>\n",
              "      <td>Film &amp; Video</td>\n",
              "      <td>USD</td>\n",
              "      <td>2015-08-29</td>\n",
              "      <td>19500.0</td>\n",
              "      <td>2015-07-04</td>\n",
              "      <td>1283.0</td>\n",
              "      <td>canceled</td>\n",
              "      <td>14</td>\n",
              "      <td>US</td>\n",
              "      <td>1283.0</td>\n",
              "      <td>19500.00</td>\n",
              "      <td>56.0</td>\n",
              "      <td>Saturday</td>\n",
              "      <td>Saturday</td>\n",
              "      <td>91.64</td>\n",
              "    </tr>\n",
              "  </tbody>\n",
              "</table>\n",
              "</div>"
            ],
            "text/plain": [
              "           ID  ... average_donation_per_backer\n",
              "0  1000002330  ...                        0.00\n",
              "1  1000003930  ...                      161.40\n",
              "2  1000004038  ...                       73.33\n",
              "3  1000007540  ...                        1.00\n",
              "4  1000011046  ...                       91.64\n",
              "\n",
              "[5 rows x 18 columns]"
            ]
          },
          "metadata": {
            "tags": []
          },
          "execution_count": 45
        }
      ]
    },
    {
      "cell_type": "code",
      "metadata": {
        "id": "GypEieF1N8En",
        "colab_type": "code",
        "outputId": "7786f78d-39e2-4b66-af98-8d4c6e6409cd",
        "colab": {
          "base_uri": "https://localhost:8080/",
          "height": 417
        }
      },
      "source": [
        "# Bar plot of projects by their state/status\n",
        "fig = plt.figure(figsize=(16,4))\n",
        "plt.subplots_adjust(top = 0.99, bottom=0.01, hspace=1.5, wspace=0.4)\n",
        "\n",
        "\n",
        "#Total counts of each projects indicated state (i.e success, fail or others)\n",
        "ax1 = plt.subplot2grid ((1,3),(0,0))  # 3 columns, 1 row.\n",
        "df2.state.value_counts().plot(kind='bar', rot=90)\n",
        "ax1.set_ylabel('Number')\n",
        "plt.title('Number of projects by state')\n",
        "\n",
        "#Shows total number of projects for each primary category of the project. Takes into account any state of the project\n",
        "ax2 = plt.subplot2grid ((1,3),(0,1))\n",
        "df2.main_category.value_counts().plot(kind = 'bar', rot=90)\n",
        "ax2.set_ylabel ('Number')\n",
        "plt.title('Number of projects by Main Category')\n",
        "\n",
        "#Shows total number of projects for each primary category of the project. Only shows successful projects\n",
        "ax3 = plt.subplot2grid((1,3),(0,2))\n",
        "df2.main_category[df2.state == 'successful'].value_counts().plot(kind = 'bar', rot =90)\n",
        "ax3.set_ylabel ('Number')\n",
        "plt.title('Number of Succesful Campaigns by Main Category')"
      ],
      "execution_count": 0,
      "outputs": [
        {
          "output_type": "execute_result",
          "data": {
            "text/plain": [
              "Text(0.5, 1.0, 'Number of Succesful Campaigns by Main Category')"
            ]
          },
          "metadata": {
            "tags": []
          },
          "execution_count": 46
        },
        {
          "output_type": "display_data",
          "data": {
            "image/png": "[encoded data removed]",
            "text/plain": [
              "<Figure size 1152x288 with 3 Axes>"
            ]
          },
          "metadata": {
            "tags": []
          }
        }
      ]
    },
    {
      "cell_type": "code",
      "metadata": {
        "id": "a8qTwf8LXjbc",
        "colab_type": "code",
        "outputId": "01c2ebe3-de35-4daa-a34c-9682062e356f",
        "colab": {
          "base_uri": "https://localhost:8080/",
          "height": 298
        }
      },
      "source": [
        "#Bar Plots displaying Success state data.\n",
        "fig2 = plt.figure(figsize=(16,4))\n",
        "\n",
        "#Creates 2 DataFrames with the total number of successful and failed projects form each Kickstarter project category.\n",
        "df_succeed = df2.main_category[df2.state == 'successful'].value_counts().sort_index()\n",
        "df_failed = df2.main_category[df2.state == 'failed'].value_counts().sort_index()\n",
        "\n",
        "#Creates an overlay of total number of successful and failed projects form each category. Any category with more failed project will have a red top.\n",
        "ax1 = fig2.add_subplot(121)\n",
        "df_failed.plot(kind='barh', color = 'red', label='Failed', alpha=0.5)\n",
        "df_succeed.plot(kind='barh', color='green',label='Succeeded', alpha=0.50)\n",
        "plt.title(\"Who succeeded? with respect to Main Category \"); \n",
        "plt.legend(loc='best')\n",
        "\n",
        "#Creates and overlay of successful and failed projects from each category based on their percentage compared to total Kickstarter projects.\n",
        "ax2 = fig2.add_subplot(122)\n",
        "(df_failed/float(df_failed.sum())).plot(kind='barh', color='orange', label='Failed', alpha=0.50)  \n",
        "(df_succeed/float(df_succeed.sum())).plot(kind='barh', color='blue',label='Succeeded', alpha=0.50)\n",
        "plt.title(\"Which category succeeded proportionally?\"); \n",
        "plt.legend(loc='best')"
      ],
      "execution_count": 0,
      "outputs": [
        {
          "output_type": "execute_result",
          "data": {
            "text/plain": [
              "<matplotlib.legend.Legend at 0x7f6c25fa1c88>"
            ]
          },
          "metadata": {
            "tags": []
          },
          "execution_count": 47
        },
        {
          "output_type": "display_data",
          "data": {
            "image/png": "[encoded data removed]",
            "text/plain": [
              "<Figure size 1152x288 with 2 Axes>"
            ]
          },
          "metadata": {
            "tags": []
          }
        }
      ]
    },
    {
      "cell_type": "code",
      "metadata": {
        "id": "Ty5TEuOaXo8F",
        "colab_type": "code",
        "outputId": "633b2fdf-12e3-4b67-b38a-0a6429644e01",
        "colab": {
          "base_uri": "https://localhost:8080/",
          "height": 295
        }
      },
      "source": [
        "# Scatterplot of average donations by number of backers per project\n",
        "plt.scatter(df2.average_donation_per_backer, df2.backers,alpha=0.5)\n",
        "plt.title('Average donation by number of backers')\n",
        "plt.xlabel('Average Donation')\n",
        "plt.ylabel('Number of Backers')\n",
        "plt.show()"
      ],
      "execution_count": 0,
      "outputs": [
        {
          "output_type": "display_data",
          "data": {
            "image/png": "[encoded data removed]",
            "text/plain": [
              "<Figure size 432x288 with 1 Axes>"
            ]
          },
          "metadata": {
            "tags": []
          }
        }
      ]
    },
    {
      "cell_type": "code",
      "metadata": {
        "id": "48_eYjBZPSJj",
        "colab_type": "code",
        "outputId": "ff3daec7-9a55-42d7-cd04-f83428f9b0cf",
        "colab": {
          "base_uri": "https://localhost:8080/",
          "height": 309
        }
      },
      "source": [
        "#Created new DataFrame df_main. Removed unecessary/redundant columns to make DataFrame easier to perform analysis on.\n",
        "#Removed Currency, pledged, goal, name, ID, currency and category columns.\n",
        "df_main = df2.drop(columns=['name','ID','category','currency','pledged','goal'])\n",
        "df_main.head()"
      ],
      "execution_count": 0,
      "outputs": [
        {
          "output_type": "execute_result",
          "data": {
            "text/html": [
              "<div>\n",
              "<style scoped>\n",
              "    .dataframe tbody tr th:only-of-type {\n",
              "        vertical-align: middle;\n",
              "    }\n",
              "\n",
              "    .dataframe tbody tr th {\n",
              "        vertical-align: top;\n",
              "    }\n",
              "\n",
              "    .dataframe thead th {\n",
              "        text-align: right;\n",
              "    }\n",
              "</style>\n",
              "<table border=\"1\" class=\"dataframe\">\n",
              "  <thead>\n",
              "    <tr style=\"text-align: right;\">\n",
              "      <th></th>\n",
              "      <th>main_category</th>\n",
              "      <th>deadline</th>\n",
              "      <th>launched</th>\n",
              "      <th>state</th>\n",
              "      <th>backers</th>\n",
              "      <th>country</th>\n",
              "      <th>usd_pledged_real</th>\n",
              "      <th>usd_goal_real</th>\n",
              "      <th>campaign_length_in_days</th>\n",
              "      <th>day_started</th>\n",
              "      <th>day_ended</th>\n",
              "      <th>average_donation_per_backer</th>\n",
              "    </tr>\n",
              "  </thead>\n",
              "  <tbody>\n",
              "    <tr>\n",
              "      <th>0</th>\n",
              "      <td>Publishing</td>\n",
              "      <td>2015-10-09</td>\n",
              "      <td>2015-08-11</td>\n",
              "      <td>failed</td>\n",
              "      <td>0</td>\n",
              "      <td>GB</td>\n",
              "      <td>0.0</td>\n",
              "      <td>1533.95</td>\n",
              "      <td>59.0</td>\n",
              "      <td>Tuesday</td>\n",
              "      <td>Friday</td>\n",
              "      <td>0.00</td>\n",
              "    </tr>\n",
              "    <tr>\n",
              "      <th>1</th>\n",
              "      <td>Film &amp; Video</td>\n",
              "      <td>2017-11-01</td>\n",
              "      <td>2017-09-02</td>\n",
              "      <td>failed</td>\n",
              "      <td>15</td>\n",
              "      <td>US</td>\n",
              "      <td>2421.0</td>\n",
              "      <td>30000.00</td>\n",
              "      <td>60.0</td>\n",
              "      <td>Saturday</td>\n",
              "      <td>Wednesday</td>\n",
              "      <td>161.40</td>\n",
              "    </tr>\n",
              "    <tr>\n",
              "      <th>2</th>\n",
              "      <td>Film &amp; Video</td>\n",
              "      <td>2013-02-26</td>\n",
              "      <td>2013-01-12</td>\n",
              "      <td>failed</td>\n",
              "      <td>3</td>\n",
              "      <td>US</td>\n",
              "      <td>220.0</td>\n",
              "      <td>45000.00</td>\n",
              "      <td>45.0</td>\n",
              "      <td>Saturday</td>\n",
              "      <td>Tuesday</td>\n",
              "      <td>73.33</td>\n",
              "    </tr>\n",
              "    <tr>\n",
              "      <th>3</th>\n",
              "      <td>Music</td>\n",
              "      <td>2012-04-16</td>\n",
              "      <td>2012-03-17</td>\n",
              "      <td>failed</td>\n",
              "      <td>1</td>\n",
              "      <td>US</td>\n",
              "      <td>1.0</td>\n",
              "      <td>5000.00</td>\n",
              "      <td>30.0</td>\n",
              "      <td>Saturday</td>\n",
              "      <td>Monday</td>\n",
              "      <td>1.00</td>\n",
              "    </tr>\n",
              "    <tr>\n",
              "      <th>4</th>\n",
              "      <td>Film &amp; Video</td>\n",
              "      <td>2015-08-29</td>\n",
              "      <td>2015-07-04</td>\n",
              "      <td>canceled</td>\n",
              "      <td>14</td>\n",
              "      <td>US</td>\n",
              "      <td>1283.0</td>\n",
              "      <td>19500.00</td>\n",
              "      <td>56.0</td>\n",
              "      <td>Saturday</td>\n",
              "      <td>Saturday</td>\n",
              "      <td>91.64</td>\n",
              "    </tr>\n",
              "  </tbody>\n",
              "</table>\n",
              "</div>"
            ],
            "text/plain": [
              "  main_category   deadline  ...  day_ended average_donation_per_backer\n",
              "0    Publishing 2015-10-09  ...     Friday                        0.00\n",
              "1  Film & Video 2017-11-01  ...  Wednesday                      161.40\n",
              "2  Film & Video 2013-02-26  ...    Tuesday                       73.33\n",
              "3         Music 2012-04-16  ...     Monday                        1.00\n",
              "4  Film & Video 2015-08-29  ...   Saturday                       91.64\n",
              "\n",
              "[5 rows x 12 columns]"
            ]
          },
          "metadata": {
            "tags": []
          },
          "execution_count": 49
        }
      ]
    },
    {
      "cell_type": "code",
      "metadata": {
        "id": "aX7KavjYpspA",
        "colab_type": "code",
        "outputId": "959568fa-a7fc-4285-f38e-44dadc942a73",
        "colab": {
          "base_uri": "https://localhost:8080/",
          "height": 306
        }
      },
      "source": [
        "#General information about updated DataFrame df_main\n",
        "df_main.info()"
      ],
      "execution_count": 0,
      "outputs": [
        {
          "output_type": "stream",
          "text": [
            "<class 'pandas.core.frame.DataFrame'>\n",
            "Int64Index: 378657 entries, 0 to 378660\n",
            "Data columns (total 12 columns):\n",
            "main_category                  378657 non-null object\n",
            "deadline                       378657 non-null datetime64[ns]\n",
            "launched                       378657 non-null datetime64[ns]\n",
            "state                          378657 non-null object\n",
            "backers                        378657 non-null int64\n",
            "country                        378657 non-null object\n",
            "usd_pledged_real               378657 non-null float64\n",
            "usd_goal_real                  378657 non-null float64\n",
            "campaign_length_in_days        378657 non-null float64\n",
            "day_started                    378657 non-null object\n",
            "day_ended                      378657 non-null object\n",
            "average_donation_per_backer    378657 non-null float64\n",
            "dtypes: datetime64[ns](2), float64(4), int64(1), object(5)\n",
            "memory usage: 37.6+ MB\n"
          ],
          "name": "stdout"
        }
      ]
    },
    {
      "cell_type": "code",
      "metadata": {
        "id": "EJg3zRa3sbPX",
        "colab_type": "code",
        "outputId": "774acea9-cc60-4c81-f47b-9e267d56850c",
        "colab": {
          "base_uri": "https://localhost:8080/",
          "height": 238
        }
      },
      "source": [
        "#Number of rows with a Cancelled state\n",
        "df_main[df_main['state'] == 'canceled'].count()"
      ],
      "execution_count": 0,
      "outputs": [
        {
          "output_type": "execute_result",
          "data": {
            "text/plain": [
              "main_category                  38779\n",
              "deadline                       38779\n",
              "launched                       38779\n",
              "state                          38779\n",
              "backers                        38779\n",
              "country                        38779\n",
              "usd_pledged_real               38779\n",
              "usd_goal_real                  38779\n",
              "campaign_length_in_days        38779\n",
              "day_started                    38779\n",
              "day_ended                      38779\n",
              "average_donation_per_backer    38779\n",
              "dtype: int64"
            ]
          },
          "metadata": {
            "tags": []
          },
          "execution_count": 51
        }
      ]
    },
    {
      "cell_type": "code",
      "metadata": {
        "id": "I9LKM10Lsx3X",
        "colab_type": "code",
        "outputId": "7ef467cb-3127-4ab5-ec02-000f3232d640",
        "colab": {
          "base_uri": "https://localhost:8080/",
          "height": 105
        }
      },
      "source": [
        "#Create a dataframe that contains only the canceled kickstarter projects\n",
        "df_canceled = df_main[df_main['state'] == 'canceled']\n",
        "\n",
        "#Count the number of canceled kickstarter projects by counting the rows in\n",
        "#the new dataframe, print results\n",
        "print('The number of canceled kickstarter projects in the dataset is ' + \n",
        "      str(df_canceled.count()[0]))\n",
        "\n",
        "#Calculate the proportion of canceled kickstarter projects in the full dataframe\n",
        "#in percentage, print results\n",
        "print('The percentage of cancelled kickstarter projects in the full dataset is '\n",
        "+ str(round((df_canceled.count()[0]/df_main.count()[0]*100),2)) + '%')\n",
        "\n",
        "#Use a conditional statement to count the number of canceled kickstarter \n",
        "#projects where the amount pledged is equal to or exceeds the goal of the \n",
        "#kickstarter campaign, print results\n",
        "print('The number of canceled kickstarter projects where the amount pledged is \\\n",
        "equal to or exceeds the goal of the project is ' + str(df_canceled[df_canceled\\\n",
        "['usd_pledged_real'] >= df_canceled['usd_goal_real']].count()[0]))\n",
        "\n",
        "#Calculate the proportion of canceled kickstarter projects that were able to \n",
        "#fundraise their goaled amount compared to the full number of canceled projects\n",
        "#in percentage, print result\n",
        "print('The percentage of canceled kickstarter projects where the amount pledged\\\n",
        "is equal to or exceeds the goal of the project compared to the full number of \\\n",
        "cancelled projects is is ' + str(round((df_canceled[df_canceled\\\n",
        "['usd_pledged_real'] >= df_canceled['usd_goal_real']].count()[0]/df_canceled.\\\n",
        "count()[0]),2)) + '%')\n"
      ],
      "execution_count": 0,
      "outputs": [
        {
          "output_type": "stream",
          "text": [
            "The number of canceled kickstarter projects in the dataset is 38779\n",
            "The percentage of cancelled kickstarter projects in the full dataset is 10.24%\n",
            "The number of canceled kickstarter projects where the amount pledged is equal to or exceeds the goal of the project is 698\n",
            "The percentage of canceled kickstarter projects where the amount pledgedis equal to or exceeds the goal of the project compared to the full number of cancelled projects is is 0.02%\n"
          ],
          "name": "stdout"
        }
      ]
    },
    {
      "cell_type": "markdown",
      "metadata": {
        "id": "BSprbSfC8UrS",
        "colab_type": "text"
      },
      "source": [
        "From the results printed above, you can see that the number of canceled \n",
        "projects that exceeded the fundraising goal account for 0.02 per cent of the\n",
        "canceled dataset and less than 0.002 per cent of the full dataset.As we are not able to account for the reason that these projects were cancelled\n",
        "despite meeting the fundraising goal, we choose to drop them from our data. "
      ]
    },
    {
      "cell_type": "code",
      "metadata": {
        "id": "Kn_9VRSt2ffl",
        "colab_type": "code",
        "outputId": "2c9ad8ac-8a9e-4a3c-bea8-a7735e05a01d",
        "colab": {
          "base_uri": "https://localhost:8080/",
          "height": 34
        }
      },
      "source": [
        "#List all the unique categories under parameter 'state'.\n",
        "print(df_main.state.unique())"
      ],
      "execution_count": 0,
      "outputs": [
        {
          "output_type": "stream",
          "text": [
            "['failed' 'canceled' 'successful' 'live' 'undefined' 'suspended']\n"
          ],
          "name": "stdout"
        }
      ]
    },
    {
      "cell_type": "code",
      "metadata": {
        "id": "1E-M7QNf2jI1",
        "colab_type": "code",
        "outputId": "78ce828a-4800-4937-fad1-2f440debeda1",
        "colab": {
          "base_uri": "https://localhost:8080/",
          "height": 68
        }
      },
      "source": [
        "#Calculates the  number of live, undefined and suspended kickstarter projects\n",
        "print(df_main[df_main['state'] == 'live'].count()[0])\n",
        "print(df_main[df_main['state'] == 'undefined'].count()[0])\n",
        "print(df_main[df_main['state'] == 'suspended'].count()[0])\n"
      ],
      "execution_count": 0,
      "outputs": [
        {
          "output_type": "stream",
          "text": [
            "2799\n",
            "3562\n",
            "1845\n"
          ],
          "name": "stdout"
        }
      ]
    },
    {
      "cell_type": "markdown",
      "metadata": {
        "id": "JrwCrNVo9Jrq",
        "colab_type": "text"
      },
      "source": [
        "As the size of the full dataset is 378657 rows, all of these categories \n",
        "under the 'state' paremeter account for less than 0.01% of the full dataset\n",
        "each. As this is not a significant amount of data lost, and as our data is\n",
        "not sufficient to qualitatively make sense of these states, we choose to drop\n",
        "them from the dataset"
      ]
    },
    {
      "cell_type": "code",
      "metadata": {
        "id": "waJJa5Qv4nOz",
        "colab_type": "code",
        "outputId": "735fb62a-c072-424b-efde-fd7e53f51cba",
        "colab": {
          "base_uri": "https://localhost:8080/",
          "height": 309
        }
      },
      "source": [
        "#Drop rows where state is live, undefined, suspended, and rows where state is \n",
        "#canceled and the amount of money pledged is equal to or exceeds the goal\n",
        "#fromt df_main\n",
        "df_main = df_main[df_main['state'] != 'live']\n",
        "df_main = df_main[df_main['state'] != 'undefined']\n",
        "df_main = df_main[df_main['state'] != 'suspended']\n",
        "df_main = df_main.drop(df_main[(df_main['state'] == 'canceled') & \\\n",
        "(df_main['usd_pledged_real'] >= df_main['usd_goal_real'])].index)\n",
        "\n",
        "#change all 'canceled' values to 'failed'\n",
        "df_main.loc[(df_main.state == 'canceled'),'state']='failed'\n",
        "\n",
        "#change all 'failed' values to 0 and 'succesful' to 1\n",
        "df_main.loc[(df_main.state == 'failed'),'state']=0\n",
        "df_main.loc[(df_main.state == 'successful'),'state']=1\n",
        "df_main.head()"
      ],
      "execution_count": 0,
      "outputs": [
        {
          "output_type": "execute_result",
          "data": {
            "text/html": [
              "<div>\n",
              "<style scoped>\n",
              "    .dataframe tbody tr th:only-of-type {\n",
              "        vertical-align: middle;\n",
              "    }\n",
              "\n",
              "    .dataframe tbody tr th {\n",
              "        vertical-align: top;\n",
              "    }\n",
              "\n",
              "    .dataframe thead th {\n",
              "        text-align: right;\n",
              "    }\n",
              "</style>\n",
              "<table border=\"1\" class=\"dataframe\">\n",
              "  <thead>\n",
              "    <tr style=\"text-align: right;\">\n",
              "      <th></th>\n",
              "      <th>main_category</th>\n",
              "      <th>deadline</th>\n",
              "      <th>launched</th>\n",
              "      <th>state</th>\n",
              "      <th>backers</th>\n",
              "      <th>country</th>\n",
              "      <th>usd_pledged_real</th>\n",
              "      <th>usd_goal_real</th>\n",
              "      <th>campaign_length_in_days</th>\n",
              "      <th>day_started</th>\n",
              "      <th>day_ended</th>\n",
              "      <th>average_donation_per_backer</th>\n",
              "    </tr>\n",
              "  </thead>\n",
              "  <tbody>\n",
              "    <tr>\n",
              "      <th>0</th>\n",
              "      <td>Publishing</td>\n",
              "      <td>2015-10-09</td>\n",
              "      <td>2015-08-11</td>\n",
              "      <td>0</td>\n",
              "      <td>0</td>\n",
              "      <td>GB</td>\n",
              "      <td>0.0</td>\n",
              "      <td>1533.95</td>\n",
              "      <td>59.0</td>\n",
              "      <td>Tuesday</td>\n",
              "      <td>Friday</td>\n",
              "      <td>0.00</td>\n",
              "    </tr>\n",
              "    <tr>\n",
              "      <th>1</th>\n",
              "      <td>Film &amp; Video</td>\n",
              "      <td>2017-11-01</td>\n",
              "      <td>2017-09-02</td>\n",
              "      <td>0</td>\n",
              "      <td>15</td>\n",
              "      <td>US</td>\n",
              "      <td>2421.0</td>\n",
              "      <td>30000.00</td>\n",
              "      <td>60.0</td>\n",
              "      <td>Saturday</td>\n",
              "      <td>Wednesday</td>\n",
              "      <td>161.40</td>\n",
              "    </tr>\n",
              "    <tr>\n",
              "      <th>2</th>\n",
              "      <td>Film &amp; Video</td>\n",
              "      <td>2013-02-26</td>\n",
              "      <td>2013-01-12</td>\n",
              "      <td>0</td>\n",
              "      <td>3</td>\n",
              "      <td>US</td>\n",
              "      <td>220.0</td>\n",
              "      <td>45000.00</td>\n",
              "      <td>45.0</td>\n",
              "      <td>Saturday</td>\n",
              "      <td>Tuesday</td>\n",
              "      <td>73.33</td>\n",
              "    </tr>\n",
              "    <tr>\n",
              "      <th>3</th>\n",
              "      <td>Music</td>\n",
              "      <td>2012-04-16</td>\n",
              "      <td>2012-03-17</td>\n",
              "      <td>0</td>\n",
              "      <td>1</td>\n",
              "      <td>US</td>\n",
              "      <td>1.0</td>\n",
              "      <td>5000.00</td>\n",
              "      <td>30.0</td>\n",
              "      <td>Saturday</td>\n",
              "      <td>Monday</td>\n",
              "      <td>1.00</td>\n",
              "    </tr>\n",
              "    <tr>\n",
              "      <th>4</th>\n",
              "      <td>Film &amp; Video</td>\n",
              "      <td>2015-08-29</td>\n",
              "      <td>2015-07-04</td>\n",
              "      <td>0</td>\n",
              "      <td>14</td>\n",
              "      <td>US</td>\n",
              "      <td>1283.0</td>\n",
              "      <td>19500.00</td>\n",
              "      <td>56.0</td>\n",
              "      <td>Saturday</td>\n",
              "      <td>Saturday</td>\n",
              "      <td>91.64</td>\n",
              "    </tr>\n",
              "  </tbody>\n",
              "</table>\n",
              "</div>"
            ],
            "text/plain": [
              "  main_category   deadline  ...  day_ended  average_donation_per_backer\n",
              "0    Publishing 2015-10-09  ...     Friday                         0.00\n",
              "1  Film & Video 2017-11-01  ...  Wednesday                       161.40\n",
              "2  Film & Video 2013-02-26  ...    Tuesday                        73.33\n",
              "3         Music 2012-04-16  ...     Monday                         1.00\n",
              "4  Film & Video 2015-08-29  ...   Saturday                        91.64\n",
              "\n",
              "[5 rows x 12 columns]"
            ]
          },
          "metadata": {
            "tags": []
          },
          "execution_count": 55
        }
      ]
    },
    {
      "cell_type": "code",
      "metadata": {
        "id": "QitTL7FJVeck",
        "colab_type": "code",
        "outputId": "141cf7e6-727f-4bff-81f1-81ba2cd6959b",
        "colab": {
          "base_uri": "https://localhost:8080/",
          "height": 297
        }
      },
      "source": [
        "#Checking statistical values of updated DatFrame\n",
        "df_main.describe()\n",
        "\n",
        "#The NaN standard deviation is likely a result of the inf values in the data.\n",
        "#NaN and INF values are further investigated below to determine cause."
      ],
      "execution_count": 0,
      "outputs": [
        {
          "output_type": "execute_result",
          "data": {
            "text/html": [
              "<div>\n",
              "<style scoped>\n",
              "    .dataframe tbody tr th:only-of-type {\n",
              "        vertical-align: middle;\n",
              "    }\n",
              "\n",
              "    .dataframe tbody tr th {\n",
              "        vertical-align: top;\n",
              "    }\n",
              "\n",
              "    .dataframe thead th {\n",
              "        text-align: right;\n",
              "    }\n",
              "</style>\n",
              "<table border=\"1\" class=\"dataframe\">\n",
              "  <thead>\n",
              "    <tr style=\"text-align: right;\">\n",
              "      <th></th>\n",
              "      <th>state</th>\n",
              "      <th>backers</th>\n",
              "      <th>usd_pledged_real</th>\n",
              "      <th>usd_goal_real</th>\n",
              "      <th>campaign_length_in_days</th>\n",
              "      <th>average_donation_per_backer</th>\n",
              "    </tr>\n",
              "  </thead>\n",
              "  <tbody>\n",
              "    <tr>\n",
              "      <th>count</th>\n",
              "      <td>369753.000000</td>\n",
              "      <td>369753.000000</td>\n",
              "      <td>3.697530e+05</td>\n",
              "      <td>3.697530e+05</td>\n",
              "      <td>369753.000000</td>\n",
              "      <td>369753.00</td>\n",
              "    </tr>\n",
              "    <tr>\n",
              "      <th>mean</th>\n",
              "      <td>0.362285</td>\n",
              "      <td>106.778241</td>\n",
              "      <td>9.119813e+03</td>\n",
              "      <td>4.513858e+04</td>\n",
              "      <td>34.405814</td>\n",
              "      <td>inf</td>\n",
              "    </tr>\n",
              "    <tr>\n",
              "      <th>std</th>\n",
              "      <td>0.480661</td>\n",
              "      <td>915.611763</td>\n",
              "      <td>9.169402e+04</td>\n",
              "      <td>1.129333e+06</td>\n",
              "      <td>60.744066</td>\n",
              "      <td>NaN</td>\n",
              "    </tr>\n",
              "    <tr>\n",
              "      <th>min</th>\n",
              "      <td>0.000000</td>\n",
              "      <td>0.000000</td>\n",
              "      <td>0.000000e+00</td>\n",
              "      <td>1.000000e-02</td>\n",
              "      <td>1.000000</td>\n",
              "      <td>0.00</td>\n",
              "    </tr>\n",
              "    <tr>\n",
              "      <th>25%</th>\n",
              "      <td>0.000000</td>\n",
              "      <td>2.000000</td>\n",
              "      <td>3.200000e+01</td>\n",
              "      <td>2.000000e+03</td>\n",
              "      <td>30.000000</td>\n",
              "      <td>14.36</td>\n",
              "    </tr>\n",
              "    <tr>\n",
              "      <th>50%</th>\n",
              "      <td>0.000000</td>\n",
              "      <td>12.000000</td>\n",
              "      <td>6.304900e+02</td>\n",
              "      <td>5.500000e+03</td>\n",
              "      <td>30.000000</td>\n",
              "      <td>40.61</td>\n",
              "    </tr>\n",
              "    <tr>\n",
              "      <th>75%</th>\n",
              "      <td>1.000000</td>\n",
              "      <td>57.000000</td>\n",
              "      <td>4.065350e+03</td>\n",
              "      <td>1.597495e+04</td>\n",
              "      <td>37.000000</td>\n",
              "      <td>76.03</td>\n",
              "    </tr>\n",
              "    <tr>\n",
              "      <th>max</th>\n",
              "      <td>1.000000</td>\n",
              "      <td>219382.000000</td>\n",
              "      <td>2.033899e+07</td>\n",
              "      <td>1.663614e+08</td>\n",
              "      <td>14867.000000</td>\n",
              "      <td>inf</td>\n",
              "    </tr>\n",
              "  </tbody>\n",
              "</table>\n",
              "</div>"
            ],
            "text/plain": [
              "               state  ...  average_donation_per_backer\n",
              "count  369753.000000  ...                    369753.00\n",
              "mean        0.362285  ...                          inf\n",
              "std         0.480661  ...                          NaN\n",
              "min         0.000000  ...                         0.00\n",
              "25%         0.000000  ...                        14.36\n",
              "50%         0.000000  ...                        40.61\n",
              "75%         1.000000  ...                        76.03\n",
              "max         1.000000  ...                          inf\n",
              "\n",
              "[8 rows x 6 columns]"
            ]
          },
          "metadata": {
            "tags": []
          },
          "execution_count": 56
        }
      ]
    },
    {
      "cell_type": "code",
      "metadata": {
        "id": "VU7UQvl7Rr9u",
        "colab_type": "code",
        "outputId": "3c8d9fd8-d2e5-4847-c664-0e5e2e908ad6",
        "colab": {
          "base_uri": "https://localhost:8080/",
          "height": 365
        }
      },
      "source": [
        "#count if backers = 0 is the same number as inf\n",
        "#To count the 'inf's we have to convert the column to a NumPy array\n",
        "array = df2['average_donation_per_backer'].values\n",
        "#count the infs\n",
        "np_bool = np.isinf(array)\n",
        "#convert the np array back to a dataframe\n",
        "df_bool = pd.DataFrame(np_bool)\n",
        "\n",
        "#count the amount of inf's (which are now represented as 'True' in a boolean df)\n",
        "print(df_bool.sum()[0])\n",
        "#count the number of rows where there are zero backers,\n",
        "#to make sure that the inf results are not a product of dividing by zero\n",
        "print(df2[df2['backers'] == 0].count()[0])\n",
        "\n",
        "#since the numbers don't add up, lets see if the inf values are the result\n",
        "#of dividing zero by zero, or dividing a nonzero number by zero\n",
        "\n",
        "#In this line lets make a new dataframe that only contains rows where\n",
        "#the number of backers is zero\n",
        "df_test = df2.drop(df2[(df2['backers'] != 0)].index)\n",
        "\n",
        "#now count the number of rows where theres zero usd pledged, and nonzero\n",
        "#usd pledged\n",
        "print(df_test[df_test['usd_pledged_real'] == 0].count()[0])\n",
        "print(df_test[df_test['usd_pledged_real'] != 0].count()[0])\n",
        "\n",
        "#for some reason, we have rows where the amount of backers is zero, but the \n",
        "#number of dollars pledged in usd is positive\n",
        "#this makes no sense.\n",
        "#luckily, the number of rows where this occurs is only 3082, which is less than\n",
        "#0.01 per cent of our data\n",
        "#In conclusion I will drop these rows\n",
        "\n",
        "#For clarity, we hunted down an instance of one of these rows\n",
        "#See \"Duncan Woods\"\n",
        "df_test_2 = df2[326:330]\n",
        "df_test_2\n",
        "\n",
        "#Dropping the rows here:\n",
        "df_main = df_main.drop(df_main[(df_main['backers'] == 0) & (df_main['usd_pledged_real'] != 0)].index)\n",
        "'''\n",
        "df_main = df_main.drop(df_main[(df_main['state'] == 'canceled') & \\\n",
        "(df_main['usd_pledged_real'] >= df_main['usd_goal_real'])].index)\n",
        "'''\n",
        "df_main.describe()"
      ],
      "execution_count": 0,
      "outputs": [
        {
          "output_type": "stream",
          "text": [
            "3082\n",
            "55608\n",
            "52526\n",
            "3082\n"
          ],
          "name": "stdout"
        },
        {
          "output_type": "execute_result",
          "data": {
            "text/html": [
              "<div>\n",
              "<style scoped>\n",
              "    .dataframe tbody tr th:only-of-type {\n",
              "        vertical-align: middle;\n",
              "    }\n",
              "\n",
              "    .dataframe tbody tr th {\n",
              "        vertical-align: top;\n",
              "    }\n",
              "\n",
              "    .dataframe thead th {\n",
              "        text-align: right;\n",
              "    }\n",
              "</style>\n",
              "<table border=\"1\" class=\"dataframe\">\n",
              "  <thead>\n",
              "    <tr style=\"text-align: right;\">\n",
              "      <th></th>\n",
              "      <th>state</th>\n",
              "      <th>backers</th>\n",
              "      <th>usd_pledged_real</th>\n",
              "      <th>usd_goal_real</th>\n",
              "      <th>campaign_length_in_days</th>\n",
              "      <th>average_donation_per_backer</th>\n",
              "    </tr>\n",
              "  </thead>\n",
              "  <tbody>\n",
              "    <tr>\n",
              "      <th>count</th>\n",
              "      <td>369553.000000</td>\n",
              "      <td>369553.000000</td>\n",
              "      <td>3.695530e+05</td>\n",
              "      <td>3.695530e+05</td>\n",
              "      <td>369553.000000</td>\n",
              "      <td>369553.000000</td>\n",
              "    </tr>\n",
              "    <tr>\n",
              "      <th>mean</th>\n",
              "      <td>0.362197</td>\n",
              "      <td>106.836029</td>\n",
              "      <td>9.115826e+03</td>\n",
              "      <td>4.515082e+04</td>\n",
              "      <td>34.406521</td>\n",
              "      <td>65.050900</td>\n",
              "    </tr>\n",
              "    <tr>\n",
              "      <th>std</th>\n",
              "      <td>0.480636</td>\n",
              "      <td>915.856122</td>\n",
              "      <td>9.160678e+04</td>\n",
              "      <td>1.129632e+06</td>\n",
              "      <td>60.759913</td>\n",
              "      <td>136.690144</td>\n",
              "    </tr>\n",
              "    <tr>\n",
              "      <th>min</th>\n",
              "      <td>0.000000</td>\n",
              "      <td>0.000000</td>\n",
              "      <td>0.000000e+00</td>\n",
              "      <td>1.000000e-02</td>\n",
              "      <td>1.000000</td>\n",
              "      <td>0.000000</td>\n",
              "    </tr>\n",
              "    <tr>\n",
              "      <th>25%</th>\n",
              "      <td>0.000000</td>\n",
              "      <td>2.000000</td>\n",
              "      <td>3.200000e+01</td>\n",
              "      <td>2.000000e+03</td>\n",
              "      <td>30.000000</td>\n",
              "      <td>14.330000</td>\n",
              "    </tr>\n",
              "    <tr>\n",
              "      <th>50%</th>\n",
              "      <td>0.000000</td>\n",
              "      <td>12.000000</td>\n",
              "      <td>6.300000e+02</td>\n",
              "      <td>5.500000e+03</td>\n",
              "      <td>30.000000</td>\n",
              "      <td>40.580000</td>\n",
              "    </tr>\n",
              "    <tr>\n",
              "      <th>75%</th>\n",
              "      <td>1.000000</td>\n",
              "      <td>57.000000</td>\n",
              "      <td>4.065000e+03</td>\n",
              "      <td>1.599526e+04</td>\n",
              "      <td>37.000000</td>\n",
              "      <td>75.940000</td>\n",
              "    </tr>\n",
              "    <tr>\n",
              "      <th>max</th>\n",
              "      <td>1.000000</td>\n",
              "      <td>219382.000000</td>\n",
              "      <td>2.033899e+07</td>\n",
              "      <td>1.663614e+08</td>\n",
              "      <td>14867.000000</td>\n",
              "      <td>10000.000000</td>\n",
              "    </tr>\n",
              "  </tbody>\n",
              "</table>\n",
              "</div>"
            ],
            "text/plain": [
              "               state  ...  average_donation_per_backer\n",
              "count  369553.000000  ...                369553.000000\n",
              "mean        0.362197  ...                    65.050900\n",
              "std         0.480636  ...                   136.690144\n",
              "min         0.000000  ...                     0.000000\n",
              "25%         0.000000  ...                    14.330000\n",
              "50%         0.000000  ...                    40.580000\n",
              "75%         1.000000  ...                    75.940000\n",
              "max         1.000000  ...                 10000.000000\n",
              "\n",
              "[8 rows x 6 columns]"
            ]
          },
          "metadata": {
            "tags": []
          },
          "execution_count": 57
        }
      ]
    },
    {
      "cell_type": "code",
      "metadata": {
        "id": "XbZOVGU69rme",
        "colab_type": "code",
        "outputId": "591cc87c-3183-4135-caed-a5ee8fae4551",
        "colab": {
          "base_uri": "https://localhost:8080/",
          "height": 512
        }
      },
      "source": [
        "#plot the histograms\n",
        "df_main.hist(figsize=(8,8))\n",
        "plt.show()\n",
        "\n",
        "#looks like there's a lot of outliers. Let's see if we can get rid of any"
      ],
      "execution_count": 0,
      "outputs": [
        {
          "output_type": "display_data",
          "data": {
            "image/png": "[encoded data removed]",
            "text/plain": [
              "<Figure size 576x576 with 6 Axes>"
            ]
          },
          "metadata": {
            "tags": []
          }
        }
      ]
    },
    {
      "cell_type": "code",
      "metadata": {
        "id": "ojYFjA-RacbU",
        "colab_type": "code",
        "outputId": "68f92403-b749-48dd-c2af-2fde0e9a6ac7",
        "colab": {
          "base_uri": "https://localhost:8080/",
          "height": 238
        }
      },
      "source": [
        "#Looks like only 20 rows have more than 50,000 backers. I'm gonna dump these to \n",
        "#see if I can make the histogram work\n",
        "df_main[df_main['backers'] > 50000].count()"
      ],
      "execution_count": 0,
      "outputs": [
        {
          "output_type": "execute_result",
          "data": {
            "text/plain": [
              "main_category                  20\n",
              "deadline                       20\n",
              "launched                       20\n",
              "state                          20\n",
              "backers                        20\n",
              "country                        20\n",
              "usd_pledged_real               20\n",
              "usd_goal_real                  20\n",
              "campaign_length_in_days        20\n",
              "day_started                    20\n",
              "day_ended                      20\n",
              "average_donation_per_backer    20\n",
              "dtype: int64"
            ]
          },
          "metadata": {
            "tags": []
          },
          "execution_count": 59
        }
      ]
    },
    {
      "cell_type": "code",
      "metadata": {
        "id": "w6w-kcaDb4YH",
        "colab_type": "code",
        "outputId": "b60a80a6-9547-4fcf-c8fa-62a571c697ad",
        "colab": {
          "base_uri": "https://localhost:8080/",
          "height": 499
        }
      },
      "source": [
        "df_main2 = df_main.drop(df_main[(df_main['backers'] > 500)].index)\n",
        "df_main2 = df_main2.drop(df_main2[(df_main2['backers'] < 1)].index)\n",
        "df_main2 = df_main2.drop(df_main2[(df_main2['usd_goal_real'] > 10000)].index)\n",
        "df_main2 = df_main2.drop(df_main2[(df_main2['usd_pledged_real'] > 10000)].index)\n",
        "df_main2 = df_main2.drop(df_main2[(df_main2['usd_pledged_real'] < 100)].index)\n",
        "#df_main2 = df_main2.drop(df_main2[(df_main2['average_donation_per_backer'] < 1)].index)\n",
        "df_main2 = df_main2.drop(df_main2[(df_main2['average_donation_per_backer'] > 1000)].index)\n",
        "df_main2.hist(figsize=(8,8))\n",
        "plt.show()"
      ],
      "execution_count": 0,
      "outputs": [
        {
          "output_type": "display_data",
          "data": {
            "image/png": "[encoded data removed]",
            "text/plain": [
              "<Figure size 576x576 with 6 Axes>"
            ]
          },
          "metadata": {
            "tags": []
          }
        }
      ]
    },
    {
      "cell_type": "code",
      "metadata": {
        "id": "lLTBU5CbcDcT",
        "colab_type": "code",
        "colab": {}
      },
      "source": [
        "# Below is exploratory analysis around the 'canceled' state for Kickstarter projects."
      ],
      "execution_count": 0,
      "outputs": []
    },
    {
      "cell_type": "code",
      "metadata": {
        "id": "NxWrvp7fdJE5",
        "colab_type": "code",
        "outputId": "31f61c3e-99c7-4e24-e356-963ddbc22ac3",
        "colab": {
          "base_uri": "https://localhost:8080/",
          "height": 136
        }
      },
      "source": [
        "# Count the number of Kickstarter projects by 'state'\n",
        "df2.state.value_counts()"
      ],
      "execution_count": 0,
      "outputs": [
        {
          "output_type": "execute_result",
          "data": {
            "text/plain": [
              "failed        197716\n",
              "successful    133956\n",
              "canceled       38779\n",
              "undefined       3562\n",
              "live            2799\n",
              "suspended       1845\n",
              "Name: state, dtype: int64"
            ]
          },
          "metadata": {
            "tags": []
          },
          "execution_count": 62
        }
      ]
    },
    {
      "cell_type": "code",
      "metadata": {
        "id": "-egQ6ok5dJE-",
        "colab_type": "code",
        "outputId": "24455245-d53b-4834-a6ff-53df22232c6f",
        "colab": {
          "base_uri": "https://localhost:8080/",
          "height": 136
        }
      },
      "source": [
        "# Count total number of projects by state as percent of total Kickstarter projects\n",
        "df2.state.value_counts(normalize=True).mul(100)"
      ],
      "execution_count": 0,
      "outputs": [
        {
          "output_type": "execute_result",
          "data": {
            "text/plain": [
              "failed        52.215065\n",
              "successful    35.376607\n",
              "canceled      10.241195\n",
              "undefined      0.940693\n",
              "live           0.739191\n",
              "suspended      0.487248\n",
              "Name: state, dtype: float64"
            ]
          },
          "metadata": {
            "tags": []
          },
          "execution_count": 63
        }
      ]
    },
    {
      "cell_type": "markdown",
      "metadata": {
        "id": "yTQLh2ZPB6pz",
        "colab_type": "text"
      },
      "source": [
        "10% of total population of projects are flagged as canceled. We will be running a separate analysis for that category. Below we will run Some explaratory analysis to understand which projects get canceled the most. "
      ]
    },
    {
      "cell_type": "code",
      "metadata": {
        "id": "5sZszd2BdJFL",
        "colab_type": "code",
        "outputId": "15b67a30-66ff-4525-85c3-90dc7f56ecac",
        "colab": {
          "base_uri": "https://localhost:8080/",
          "height": 245
        }
      },
      "source": [
        "#Percentage of a category from overall projects and the from that amount, the percentage cancelled projects in that category.\n",
        "\n",
        "#Created a new data frame with % of total for canceled vs all businesses\n",
        "\n",
        "df_main_cat_tot = pd.DataFrame(df2.main_category.value_counts(normalize=True).mul(100), columns = ['main_category'])\n",
        "df_main_cat_can = pd.DataFrame(df2.main_category[df2.state == 'canceled'].value_counts(normalize=True).mul(100), columns = ['main_category'])\n",
        "df_main_cat = pd.merge(df_main_cat_tot, df_main_cat_can, left_index=True, right_index=True)\n",
        "\n",
        "#Visualize the all % for a category next to percent of cancelled projects in the category.\n",
        "x = np.arange(len(df_main_cat.index)) \n",
        "width = 0.35\n",
        "\n",
        "fig, ax = plt.subplots(figsize=(18,3))\n",
        "ax.bar(x - width/2, df_main_cat.main_category_x, width, label='All')\n",
        "ax.bar(x + width/2, df_main_cat.main_category_y, width, label='Canceled')\n",
        "\n",
        "# Add some text for labels, title and custom x-axis tick labels, etc.\n",
        "ax.set_ylabel('% of total')\n",
        "ax.set_title('Distribution Canceled vs All')\n",
        "ax.set_xticks(x)\n",
        "ax.set_xticklabels(df_main_cat.index)\n",
        "ax.legend()\n",
        "\n",
        "fig.tight_layout()\n",
        "\n",
        "plt.show()"
      ],
      "execution_count": 0,
      "outputs": [
        {
          "output_type": "display_data",
          "data": {
            "image/png": "[encoded data removed]",
            "text/plain": [
              "<Figure size 1296x216 with 1 Axes>"
            ]
          },
          "metadata": {
            "tags": []
          }
        }
      ]
    },
    {
      "cell_type": "markdown",
      "metadata": {
        "id": "Oi1_thphHW7E",
        "colab_type": "text"
      },
      "source": [
        "Games, Technology and Design had higher cancellation rates comared to the overall percentage of projects of that category."
      ]
    },
    {
      "cell_type": "code",
      "metadata": {
        "id": "4F6wbp-4dJFW",
        "colab_type": "code",
        "outputId": "cc0be2db-9c19-4c64-a975-be9bc5740b97",
        "colab": {
          "base_uri": "https://localhost:8080/",
          "height": 245
        }
      },
      "source": [
        "##Comparing project currencies to see if the currency of the kickstarter project had different effects on the cancellation percentage\n",
        "\n",
        "#Create a new data frame with % of total projects' currencies values for canceled vs all businesses\n",
        "\n",
        "df_cur_tot = pd.DataFrame(df2.currency.value_counts(normalize=True).mul(100), columns = ['currency'])\n",
        "df_cur_can = pd.DataFrame(df2.currency[df2.state == 'canceled'].value_counts(normalize=True).mul(100), columns = ['currency'])\n",
        "df_cur = pd.merge(df_cur_tot, df_cur_can, left_index=True, right_index=True)\n",
        "\n",
        "#Visualize\n",
        "x = np.arange(len(df_cur.index)) \n",
        "width = 0.35\n",
        "\n",
        "fig, ax = plt.subplots(figsize=(18,3))\n",
        "ax.bar(x - width/2, df_cur.currency_x, width, label='All')\n",
        "ax.bar(x + width/2, df_cur.currency_y, width, label='Canceled')\n",
        "\n",
        "# Add some text for labels, title and custom x-axis tick labels, etc.\n",
        "ax.set_ylabel('% of total')\n",
        "ax.set_title('Distribution Canceled vs All')\n",
        "ax.set_xticks(x)\n",
        "ax.set_xticklabels(df_cur.index)\n",
        "ax.legend()\n",
        "\n",
        "fig.tight_layout()\n",
        "\n",
        "plt.show()"
      ],
      "execution_count": 0,
      "outputs": [
        {
          "output_type": "display_data",
          "data": {
            "image/png": "[encoded data removed]",
            "text/plain": [
              "<Figure size 1296x216 with 1 Axes>"
            ]
          },
          "metadata": {
            "tags": []
          }
        }
      ]
    },
    {
      "cell_type": "markdown",
      "metadata": {
        "id": "Nhi2t164Iijc",
        "colab_type": "text"
      },
      "source": [
        "There is a slightly higher percentage of canceled projects with EUR, CAD and AUD as their primary currency when compared to the total percentage of overall projects."
      ]
    },
    {
      "cell_type": "code",
      "metadata": {
        "id": "X6NzFDIYdJFj",
        "colab_type": "code",
        "outputId": "85200924-ce8c-439e-dec2-1062e4d0348a",
        "colab": {
          "base_uri": "https://localhost:8080/",
          "height": 389
        }
      },
      "source": [
        "##Comparing projects country of origin to see if the country impacted or had a correlation on the percentage of cancelled projects\n",
        "\n",
        "#Created a new data frame with % of each country of origin comparing to the overall failure rate.\n",
        "\n",
        "df_coun_tot = pd.DataFrame(df2.country.value_counts(normalize=True).mul(100), columns = ['country'])\n",
        "df_coun_can = pd.DataFrame(df2.country[df2.state == 'canceled'].value_counts(normalize=True).mul(100), columns = ['country'])\n",
        "df_coun = pd.merge(df_coun_tot, df_coun_can, left_index=True, right_index=True)\n",
        "\n",
        "#Visualize\n",
        "x = np.arange(len(df_coun.index)) \n",
        "width = 0.35\n",
        "\n",
        "fig, ax = plt.subplots(figsize=(18,5))\n",
        "ax.bar(x - width/2, df_coun.country_x, width, label='All')\n",
        "ax.bar(x + width/2, df_coun.country_y, width, label='Canceled')\n",
        "\n",
        "# Add some text for labels, title and custom x-axis tick labels, etc.\n",
        "ax.set_ylabel('% of total')\n",
        "ax.set_title('Distribution Canceled vs All')\n",
        "ax.set_xticks(x)\n",
        "ax.set_xticklabels(df_coun.index)\n",
        "ax.legend()\n",
        "\n",
        "fig.tight_layout()\n",
        "\n",
        "plt.show()"
      ],
      "execution_count": 0,
      "outputs": [
        {
          "output_type": "display_data",
          "data": {
            "image/png": "[encoded data removed]",
            "text/plain": [
              "<Figure size 1296x360 with 1 Axes>"
            ]
          },
          "metadata": {
            "tags": []
          }
        }
      ]
    },
    {
      "cell_type": "markdown",
      "metadata": {
        "id": "cbZoBp-LKSNN",
        "colab_type": "text"
      },
      "source": [
        "A higher proportion of canceled projects in Great Britain, Canada and Australia relative to their overall number of projects."
      ]
    },
    {
      "cell_type": "code",
      "metadata": {
        "id": "uAuh7XVidJFs",
        "colab_type": "code",
        "outputId": "5744796b-9a66-4f2d-852d-907a2fcf96ab",
        "colab": {
          "base_uri": "https://localhost:8080/",
          "height": 245
        }
      },
      "source": [
        "##Comparing projects by day of the week the Kickstarter began on against overall projects and if there is a correlation to an increase in cancelled projects.\n",
        "\n",
        "#Created a new data frame with % of total projects and day of the week they began vs overall cancelled projects.\n",
        "df_dow_tot = pd.DataFrame(df2.day_started.value_counts(normalize=True).mul(100), columns = ['day_started'])\n",
        "df_dow_can = pd.DataFrame(df2.day_started[df2.state == 'canceled'].value_counts(normalize=True).mul(100), columns = ['day_started'])\n",
        "df_dow = pd.merge(df_dow_tot, df_dow_can, left_index=True, right_index=True)\n",
        "df_cur\n",
        "\n",
        "#Visualize\n",
        "x = np.arange(len(df_dow.index)) \n",
        "width = 0.35\n",
        "\n",
        "fig, ax = plt.subplots(figsize=(18,3))\n",
        "ax.bar(x - width/2, df_dow.day_started_x, width, label='All')\n",
        "ax.bar(x + width/2, df_dow.day_started_y, width, label='Canceled')\n",
        "\n",
        "# Add some text for labels, title and custom x-axis tick labels, etc.\n",
        "ax.set_ylabel('% of total')\n",
        "ax.set_title('Distribution Canceled vs All')\n",
        "ax.set_xticks(x)\n",
        "ax.set_xticklabels(df_dow.index)\n",
        "ax.legend()\n",
        "\n",
        "fig.tight_layout()\n",
        "\n",
        "plt.show()"
      ],
      "execution_count": 0,
      "outputs": [
        {
          "output_type": "display_data",
          "data": {
            "image/png": "[encoded data removed]",
            "text/plain": [
              "<Figure size 1296x216 with 1 Axes>"
            ]
          },
          "metadata": {
            "tags": []
          }
        }
      ]
    },
    {
      "cell_type": "markdown",
      "metadata": {
        "id": "fMtPqzXNLLlR",
        "colab_type": "text"
      },
      "source": [
        "There does not appear to be any notable difference between the day of the week a project starts and the percentage/likelihood it gets cancelled."
      ]
    },
    {
      "cell_type": "code",
      "metadata": {
        "scrolled": true,
        "id": "UBYRi7FxdJF5",
        "colab_type": "code",
        "outputId": "c6e3e1d5-ed56-4da0-c5fb-612a1ceefcd5",
        "colab": {
          "base_uri": "https://localhost:8080/",
          "height": 306
        }
      },
      "source": [
        "# Distribution of # of backers for all projects vs # of backers for canceled projects\n",
        "\n",
        "sns.set_style(\"white\")\n",
        "bins = np.arange(0, 100 + 5, 5)\n",
        "\n",
        "plt.figure(figsize=(8,4), dpi= 80)\n",
        "sns.distplot(df2.backers, color=\"dodgerblue\", label=\"All\", bins=bins, kde=False)\n",
        "sns.distplot(df2.backers[df2.state == 'canceled'], color=\"orange\", label=\"Canceled\", bins=bins, kde=False)\n",
        "plt.legend();"
      ],
      "execution_count": 0,
      "outputs": [
        {
          "output_type": "display_data",
          "data": {
            "image/png": "[encoded data removed]",
            "text/plain": [
              "<Figure size 640x320 with 1 Axes>"
            ]
          },
          "metadata": {
            "tags": []
          }
        }
      ]
    },
    {
      "cell_type": "markdown",
      "metadata": {
        "id": "zD-GJ24JMH6g",
        "colab_type": "text"
      },
      "source": [
        "Cancelled projects tended to have a very low number of backers with the majority of cancelled projects having under 5 backers in total."
      ]
    },
    {
      "cell_type": "code",
      "metadata": {
        "id": "rOYrUV4oWY8o",
        "colab_type": "code",
        "outputId": "448829fb-55de-4aee-9db6-639bdded0a63",
        "colab": {
          "base_uri": "https://localhost:8080/",
          "height": 54
        }
      },
      "source": [
        "\"\"\"print(.su[df3[ray = df3]'aver]ge_donat[0])\n",
        "df4 = df3.drop(df3[(df3['backers'] == 0)].index)arranp\n",
        "df_bool.value_counts()\n",
        "\n",
        "df3[df3['bac.index)kers'] == 0].count()[0])#f_b\n",
        "ool ='0'. pd.dataframe(\n",
        "df3.state.value_counts()#df4 = df3.drop(df3['backers'] >= 0)df_bool)print(d\n",
        "\n",
        "f3[df3['usd_pledged_real'] != 0].count()[0])\n",
        "rint(df3[df3['usd_pledged_real'] ==!=].co\n",
        "unt()[0])\n",
        "df5\n",
        "\n",
        "df5 = df3[321:330]\n",
        "#print(df4[(d4.'usd_pledgd_real' == 0)].sum())\n",
        "\n",
        "print(\"\"\""
      ],
      "execution_count": 0,
      "outputs": [
        {
          "output_type": "execute_result",
          "data": {
            "text/plain": [
              "\"print(.su[df3[ray = df3]'aver]ge_donat[0])\\ndf4 = df3.drop(df3[(df3['backers'] == 0)].index)arranp\\ndf_bool.value_counts()\\n\\ndf3[df3['bac.index)kers'] == 0].count()[0])#f_b\\nool ='0'. pd.dataframe(\\ndf3.state.value_counts()#df4 = df3.drop(df3['backers'] >= 0)df_bool)print(d\\n\\nf3[df3['usd_pledged_real'] != 0].count()[0])\\nrint(df3[df3['usd_pledged_real'] ==!=].co\\nunt()[0])\\ndf5\\n\\ndf5 = df3[321:330]\\n#print(df4[(d4.'usd_pledgd_real' == 0)].sum())\\n\\nprint(\""
            ]
          },
          "metadata": {
            "tags": []
          },
          "execution_count": 69
        }
      ]
    },
    {
      "cell_type": "code",
      "metadata": {
        "id": "3Avhx5Q91nCG",
        "colab_type": "code",
        "colab": {}
      },
      "source": [
        "# Convert Main_Category and Country, which are categorical variables into dummy variables to allow an True of False approach by being able to assign a 0 or 1 value.\n",
        "dummy=pd.get_dummies(df_main['main_category'])\n",
        "dummy.head()\n",
        "dummy2=pd.get_dummies(df_main['country'])\n"
      ],
      "execution_count": 0,
      "outputs": []
    },
    {
      "cell_type": "code",
      "metadata": {
        "id": "_pciNyMI1yYt",
        "colab_type": "code",
        "colab": {}
      },
      "source": [
        "#Concatenate dummy and dummy2 to the df_main dataframe, and renamed datafrome to df_main_dummy\n",
        "df_main_dummy=pd.concat([df_main, dummy], axis=1)\n",
        "df_main_dummy=pd.concat([df_main_dummy, dummy2], axis=1)"
      ],
      "execution_count": 0,
      "outputs": []
    },
    {
      "cell_type": "code",
      "metadata": {
        "id": "Xyq8g7K91z_l",
        "colab_type": "code",
        "colab": {}
      },
      "source": [
        "#Removed categorical variables 'main category' and 'country' as we have created dummy variables instead\n",
        "#Dropped deadline and launched date are dropped\n",
        "#Removed outliers in data. Removed rows where total project active days were over 1000 and projects where total numebr of backers is larger than 100000\n",
        "df_main_dummy=df_main_dummy.drop(['main_category', 'country','average_donation_per_backer','day_started','day_ended','deadline','launched'], axis=1)\n",
        "df_main_dummy.head()\n",
        "df_main_dummy = df_main_dummy.drop(df_main_dummy[(df_main_dummy['campaign_length_in_days'] > 1000)].index)\n",
        "df_main_dummy = df_main_dummy.drop(df_main_dummy[(df_main_dummy['backers'] > 100000)].index)"
      ],
      "execution_count": 0,
      "outputs": []
    },
    {
      "cell_type": "code",
      "metadata": {
        "id": "UrpSI7RI12Tk",
        "colab_type": "code",
        "outputId": "6bcc2afe-4f67-40da-cbcd-616bbb7b17c9",
        "colab": {
          "base_uri": "https://localhost:8080/",
          "height": 258
        }
      },
      "source": [
        "df_main_dummy.head()"
      ],
      "execution_count": 0,
      "outputs": [
        {
          "output_type": "execute_result",
          "data": {
            "text/html": [
              "<div>\n",
              "<style scoped>\n",
              "    .dataframe tbody tr th:only-of-type {\n",
              "        vertical-align: middle;\n",
              "    }\n",
              "\n",
              "    .dataframe tbody tr th {\n",
              "        vertical-align: top;\n",
              "    }\n",
              "\n",
              "    .dataframe thead th {\n",
              "        text-align: right;\n",
              "    }\n",
              "</style>\n",
              "<table border=\"1\" class=\"dataframe\">\n",
              "  <thead>\n",
              "    <tr style=\"text-align: right;\">\n",
              "      <th></th>\n",
              "      <th>state</th>\n",
              "      <th>backers</th>\n",
              "      <th>usd_pledged_real</th>\n",
              "      <th>usd_goal_real</th>\n",
              "      <th>campaign_length_in_days</th>\n",
              "      <th>Art</th>\n",
              "      <th>Comics</th>\n",
              "      <th>Crafts</th>\n",
              "      <th>Dance</th>\n",
              "      <th>Design</th>\n",
              "      <th>Fashion</th>\n",
              "      <th>Film &amp; Video</th>\n",
              "      <th>Food</th>\n",
              "      <th>Games</th>\n",
              "      <th>Journalism</th>\n",
              "      <th>Music</th>\n",
              "      <th>Photography</th>\n",
              "      <th>Publishing</th>\n",
              "      <th>Technology</th>\n",
              "      <th>Theater</th>\n",
              "      <th>AT</th>\n",
              "      <th>AU</th>\n",
              "      <th>BE</th>\n",
              "      <th>CA</th>\n",
              "      <th>CH</th>\n",
              "      <th>DE</th>\n",
              "      <th>DK</th>\n",
              "      <th>ES</th>\n",
              "      <th>FR</th>\n",
              "      <th>GB</th>\n",
              "      <th>HK</th>\n",
              "      <th>IE</th>\n",
              "      <th>IT</th>\n",
              "      <th>JP</th>\n",
              "      <th>LU</th>\n",
              "      <th>MX</th>\n",
              "      <th>N,0\"</th>\n",
              "      <th>NL</th>\n",
              "      <th>NO</th>\n",
              "      <th>NZ</th>\n",
              "      <th>SE</th>\n",
              "      <th>SG</th>\n",
              "      <th>US</th>\n",
              "    </tr>\n",
              "  </thead>\n",
              "  <tbody>\n",
              "    <tr>\n",
              "      <th>0</th>\n",
              "      <td>0</td>\n",
              "      <td>0</td>\n",
              "      <td>0.0</td>\n",
              "      <td>1533.95</td>\n",
              "      <td>59.0</td>\n",
              "      <td>0</td>\n",
              "      <td>0</td>\n",
              "      <td>0</td>\n",
              "      <td>0</td>\n",
              "      <td>0</td>\n",
              "      <td>0</td>\n",
              "      <td>0</td>\n",
              "      <td>0</td>\n",
              "      <td>0</td>\n",
              "      <td>0</td>\n",
              "      <td>0</td>\n",
              "      <td>0</td>\n",
              "      <td>1</td>\n",
              "      <td>0</td>\n",
              "      <td>0</td>\n",
              "      <td>0</td>\n",
              "      <td>0</td>\n",
              "      <td>0</td>\n",
              "      <td>0</td>\n",
              "      <td>0</td>\n",
              "      <td>0</td>\n",
              "      <td>0</td>\n",
              "      <td>0</td>\n",
              "      <td>0</td>\n",
              "      <td>1</td>\n",
              "      <td>0</td>\n",
              "      <td>0</td>\n",
              "      <td>0</td>\n",
              "      <td>0</td>\n",
              "      <td>0</td>\n",
              "      <td>0</td>\n",
              "      <td>0</td>\n",
              "      <td>0</td>\n",
              "      <td>0</td>\n",
              "      <td>0</td>\n",
              "      <td>0</td>\n",
              "      <td>0</td>\n",
              "      <td>0</td>\n",
              "    </tr>\n",
              "    <tr>\n",
              "      <th>1</th>\n",
              "      <td>0</td>\n",
              "      <td>15</td>\n",
              "      <td>2421.0</td>\n",
              "      <td>30000.00</td>\n",
              "      <td>60.0</td>\n",
              "      <td>0</td>\n",
              "      <td>0</td>\n",
              "      <td>0</td>\n",
              "      <td>0</td>\n",
              "      <td>0</td>\n",
              "      <td>0</td>\n",
              "      <td>1</td>\n",
              "      <td>0</td>\n",
              "      <td>0</td>\n",
              "      <td>0</td>\n",
              "      <td>0</td>\n",
              "      <td>0</td>\n",
              "      <td>0</td>\n",
              "      <td>0</td>\n",
              "      <td>0</td>\n",
              "      <td>0</td>\n",
              "      <td>0</td>\n",
              "      <td>0</td>\n",
              "      <td>0</td>\n",
              "      <td>0</td>\n",
              "      <td>0</td>\n",
              "      <td>0</td>\n",
              "      <td>0</td>\n",
              "      <td>0</td>\n",
              "      <td>0</td>\n",
              "      <td>0</td>\n",
              "      <td>0</td>\n",
              "      <td>0</td>\n",
              "      <td>0</td>\n",
              "      <td>0</td>\n",
              "      <td>0</td>\n",
              "      <td>0</td>\n",
              "      <td>0</td>\n",
              "      <td>0</td>\n",
              "      <td>0</td>\n",
              "      <td>0</td>\n",
              "      <td>0</td>\n",
              "      <td>1</td>\n",
              "    </tr>\n",
              "    <tr>\n",
              "      <th>2</th>\n",
              "      <td>0</td>\n",
              "      <td>3</td>\n",
              "      <td>220.0</td>\n",
              "      <td>45000.00</td>\n",
              "      <td>45.0</td>\n",
              "      <td>0</td>\n",
              "      <td>0</td>\n",
              "      <td>0</td>\n",
              "      <td>0</td>\n",
              "      <td>0</td>\n",
              "      <td>0</td>\n",
              "      <td>1</td>\n",
              "      <td>0</td>\n",
              "      <td>0</td>\n",
              "      <td>0</td>\n",
              "      <td>0</td>\n",
              "      <td>0</td>\n",
              "      <td>0</td>\n",
              "      <td>0</td>\n",
              "      <td>0</td>\n",
              "      <td>0</td>\n",
              "      <td>0</td>\n",
              "      <td>0</td>\n",
              "      <td>0</td>\n",
              "      <td>0</td>\n",
              "      <td>0</td>\n",
              "      <td>0</td>\n",
              "      <td>0</td>\n",
              "      <td>0</td>\n",
              "      <td>0</td>\n",
              "      <td>0</td>\n",
              "      <td>0</td>\n",
              "      <td>0</td>\n",
              "      <td>0</td>\n",
              "      <td>0</td>\n",
              "      <td>0</td>\n",
              "      <td>0</td>\n",
              "      <td>0</td>\n",
              "      <td>0</td>\n",
              "      <td>0</td>\n",
              "      <td>0</td>\n",
              "      <td>0</td>\n",
              "      <td>1</td>\n",
              "    </tr>\n",
              "    <tr>\n",
              "      <th>3</th>\n",
              "      <td>0</td>\n",
              "      <td>1</td>\n",
              "      <td>1.0</td>\n",
              "      <td>5000.00</td>\n",
              "      <td>30.0</td>\n",
              "      <td>0</td>\n",
              "      <td>0</td>\n",
              "      <td>0</td>\n",
              "      <td>0</td>\n",
              "      <td>0</td>\n",
              "      <td>0</td>\n",
              "      <td>0</td>\n",
              "      <td>0</td>\n",
              "      <td>0</td>\n",
              "      <td>0</td>\n",
              "      <td>1</td>\n",
              "      <td>0</td>\n",
              "      <td>0</td>\n",
              "      <td>0</td>\n",
              "      <td>0</td>\n",
              "      <td>0</td>\n",
              "      <td>0</td>\n",
              "      <td>0</td>\n",
              "      <td>0</td>\n",
              "      <td>0</td>\n",
              "      <td>0</td>\n",
              "      <td>0</td>\n",
              "      <td>0</td>\n",
              "      <td>0</td>\n",
              "      <td>0</td>\n",
              "      <td>0</td>\n",
              "      <td>0</td>\n",
              "      <td>0</td>\n",
              "      <td>0</td>\n",
              "      <td>0</td>\n",
              "      <td>0</td>\n",
              "      <td>0</td>\n",
              "      <td>0</td>\n",
              "      <td>0</td>\n",
              "      <td>0</td>\n",
              "      <td>0</td>\n",
              "      <td>0</td>\n",
              "      <td>1</td>\n",
              "    </tr>\n",
              "    <tr>\n",
              "      <th>4</th>\n",
              "      <td>0</td>\n",
              "      <td>14</td>\n",
              "      <td>1283.0</td>\n",
              "      <td>19500.00</td>\n",
              "      <td>56.0</td>\n",
              "      <td>0</td>\n",
              "      <td>0</td>\n",
              "      <td>0</td>\n",
              "      <td>0</td>\n",
              "      <td>0</td>\n",
              "      <td>0</td>\n",
              "      <td>1</td>\n",
              "      <td>0</td>\n",
              "      <td>0</td>\n",
              "      <td>0</td>\n",
              "      <td>0</td>\n",
              "      <td>0</td>\n",
              "      <td>0</td>\n",
              "      <td>0</td>\n",
              "      <td>0</td>\n",
              "      <td>0</td>\n",
              "      <td>0</td>\n",
              "      <td>0</td>\n",
              "      <td>0</td>\n",
              "      <td>0</td>\n",
              "      <td>0</td>\n",
              "      <td>0</td>\n",
              "      <td>0</td>\n",
              "      <td>0</td>\n",
              "      <td>0</td>\n",
              "      <td>0</td>\n",
              "      <td>0</td>\n",
              "      <td>0</td>\n",
              "      <td>0</td>\n",
              "      <td>0</td>\n",
              "      <td>0</td>\n",
              "      <td>0</td>\n",
              "      <td>0</td>\n",
              "      <td>0</td>\n",
              "      <td>0</td>\n",
              "      <td>0</td>\n",
              "      <td>0</td>\n",
              "      <td>1</td>\n",
              "    </tr>\n",
              "  </tbody>\n",
              "</table>\n",
              "</div>"
            ],
            "text/plain": [
              "   state  backers  usd_pledged_real  usd_goal_real  ...  NZ  SE  SG  US\n",
              "0      0        0               0.0        1533.95  ...   0   0   0   0\n",
              "1      0       15            2421.0       30000.00  ...   0   0   0   1\n",
              "2      0        3             220.0       45000.00  ...   0   0   0   1\n",
              "3      0        1               1.0        5000.00  ...   0   0   0   1\n",
              "4      0       14            1283.0       19500.00  ...   0   0   0   1\n",
              "\n",
              "[5 rows x 43 columns]"
            ]
          },
          "metadata": {
            "tags": []
          },
          "execution_count": 73
        }
      ]
    },
    {
      "cell_type": "code",
      "metadata": {
        "id": "12m6O48m1301",
        "colab_type": "code",
        "outputId": "bb9a2be7-4474-4902-b94c-0e2664c75545",
        "colab": {
          "base_uri": "https://localhost:8080/",
          "height": 833
        }
      },
      "source": [
        "df_main_dummy.info()"
      ],
      "execution_count": 0,
      "outputs": [
        {
          "output_type": "stream",
          "text": [
            "<class 'pandas.core.frame.DataFrame'>\n",
            "Int64Index: 369544 entries, 0 to 378660\n",
            "Data columns (total 43 columns):\n",
            "state                      369544 non-null int64\n",
            "backers                    369544 non-null int64\n",
            "usd_pledged_real           369544 non-null float64\n",
            "usd_goal_real              369544 non-null float64\n",
            "campaign_length_in_days    369544 non-null float64\n",
            "Art                        369544 non-null uint8\n",
            "Comics                     369544 non-null uint8\n",
            "Crafts                     369544 non-null uint8\n",
            "Dance                      369544 non-null uint8\n",
            "Design                     369544 non-null uint8\n",
            "Fashion                    369544 non-null uint8\n",
            "Film & Video               369544 non-null uint8\n",
            "Food                       369544 non-null uint8\n",
            "Games                      369544 non-null uint8\n",
            "Journalism                 369544 non-null uint8\n",
            "Music                      369544 non-null uint8\n",
            "Photography                369544 non-null uint8\n",
            "Publishing                 369544 non-null uint8\n",
            "Technology                 369544 non-null uint8\n",
            "Theater                    369544 non-null uint8\n",
            "AT                         369544 non-null uint8\n",
            "AU                         369544 non-null uint8\n",
            "BE                         369544 non-null uint8\n",
            "CA                         369544 non-null uint8\n",
            "CH                         369544 non-null uint8\n",
            "DE                         369544 non-null uint8\n",
            "DK                         369544 non-null uint8\n",
            "ES                         369544 non-null uint8\n",
            "FR                         369544 non-null uint8\n",
            "GB                         369544 non-null uint8\n",
            "HK                         369544 non-null uint8\n",
            "IE                         369544 non-null uint8\n",
            "IT                         369544 non-null uint8\n",
            "JP                         369544 non-null uint8\n",
            "LU                         369544 non-null uint8\n",
            "MX                         369544 non-null uint8\n",
            "N,0\"                       369544 non-null uint8\n",
            "NL                         369544 non-null uint8\n",
            "NO                         369544 non-null uint8\n",
            "NZ                         369544 non-null uint8\n",
            "SE                         369544 non-null uint8\n",
            "SG                         369544 non-null uint8\n",
            "US                         369544 non-null uint8\n",
            "dtypes: float64(3), int64(2), uint8(38)\n",
            "memory usage: 30.3 MB\n"
          ],
          "name": "stdout"
        }
      ]
    },
    {
      "cell_type": "code",
      "metadata": {
        "id": "rKy6JVEI2A-e",
        "colab_type": "code",
        "outputId": "a725d474-d86e-4af8-e46d-7a406bd32093",
        "colab": {
          "base_uri": "https://localhost:8080/",
          "height": 282
        }
      },
      "source": [
        "plt.scatter(df_main_dummy['Art'],df_main_dummy['state'])"
      ],
      "execution_count": 0,
      "outputs": [
        {
          "output_type": "execute_result",
          "data": {
            "text/plain": [
              "<matplotlib.collections.PathCollection at 0x7f6c21f9be10>"
            ]
          },
          "metadata": {
            "tags": []
          },
          "execution_count": 75
        },
        {
          "output_type": "display_data",
          "data": {
            "image/png": "[encoded data removed]",
            "text/plain": [
              "<Figure size 432x288 with 1 Axes>"
            ]
          },
          "metadata": {
            "tags": []
          }
        }
      ]
    },
    {
      "cell_type": "code",
      "metadata": {
        "id": "k2i_jiIb2C0m",
        "colab_type": "code",
        "colab": {}
      },
      "source": [
        "##Next section is the actual modeling.  First, we split the data into a training and test data set.  "
      ],
      "execution_count": 0,
      "outputs": []
    },
    {
      "cell_type": "code",
      "metadata": {
        "id": "G4wMoyxa2GKG",
        "colab_type": "code",
        "colab": {}
      },
      "source": [
        "from sklearn.model_selection import train_test_split\n",
        "X_train, X_test, y_train, y_test = train_test_split(df_main_dummy[['backers', 'usd_goal_real']], \n",
        "                                                    df_main_dummy['state'], test_size=0.25)\n"
      ],
      "execution_count": 0,
      "outputs": []
    },
    {
      "cell_type": "code",
      "metadata": {
        "id": "_dohVKAC2HsG",
        "colab_type": "code",
        "outputId": "a0c8ecca-48f6-4f87-952b-c272a27ccaf7",
        "colab": {
          "base_uri": "https://localhost:8080/",
          "height": 136
        }
      },
      "source": [
        "X_train.info()"
      ],
      "execution_count": 0,
      "outputs": [
        {
          "output_type": "stream",
          "text": [
            "<class 'pandas.core.frame.DataFrame'>\n",
            "Int64Index: 277158 entries, 23423 to 53148\n",
            "Data columns (total 2 columns):\n",
            "backers          277158 non-null int64\n",
            "usd_goal_real    277158 non-null float64\n",
            "dtypes: float64(1), int64(1)\n",
            "memory usage: 6.3 MB\n"
          ],
          "name": "stdout"
        }
      ]
    },
    {
      "cell_type": "code",
      "metadata": {
        "id": "Cnk6OfWK2JVn",
        "colab_type": "code",
        "colab": {}
      },
      "source": [
        "from statsmodels.discrete.discrete_model import Logit\n",
        "from scipy.special import logit"
      ],
      "execution_count": 0,
      "outputs": []
    },
    {
      "cell_type": "code",
      "metadata": {
        "id": "3eDr9RUu2LRH",
        "colab_type": "code",
        "outputId": "69e7649a-22d3-49a9-f798-a5d2f37ad0be",
        "colab": {
          "base_uri": "https://localhost:8080/",
          "height": 102
        }
      },
      "source": [
        "# Fit the model\n",
        "m = Logit(y_train,X_train)\n",
        "m = m.fit()"
      ],
      "execution_count": 0,
      "outputs": [
        {
          "output_type": "stream",
          "text": [
            "/usr/local/lib/python3.6/dist-packages/statsmodels/discrete/discrete_model.py:1736: RuntimeWarning: overflow encountered in exp\n",
            "  return 1/(1+np.exp(-X))\n"
          ],
          "name": "stderr"
        },
        {
          "output_type": "stream",
          "text": [
            "Optimization terminated successfully.\n",
            "         Current function value: 0.361477\n",
            "         Iterations 12\n"
          ],
          "name": "stdout"
        }
      ]
    },
    {
      "cell_type": "code",
      "metadata": {
        "id": "obb2ZRQU2NB_",
        "colab_type": "code",
        "outputId": "396f9a4d-5bf9-4df5-f7c3-e66f41fd2284",
        "colab": {
          "base_uri": "https://localhost:8080/",
          "height": 306
        }
      },
      "source": [
        "print(m.summary2())"
      ],
      "execution_count": 0,
      "outputs": [
        {
          "output_type": "stream",
          "text": [
            "                          Results: Logit\n",
            "==================================================================\n",
            "Model:              Logit            Pseudo R-squared: 0.448      \n",
            "Dependent Variable: state            AIC:              200376.3691\n",
            "Date:               2019-12-05 22:57 BIC:              200397.4338\n",
            "No. Observations:   277158           Log-Likelihood:   -1.0019e+05\n",
            "Df Model:           1                LL-Null:          -1.8143e+05\n",
            "Df Residuals:       277156           LLR p-value:      0.0000     \n",
            "Converged:          1.0000           Scale:            1.0000     \n",
            "No. Iterations:     12.0000                                       \n",
            "------------------------------------------------------------------\n",
            "                  Coef.  Std.Err.     z     P>|z|   [0.025  0.975]\n",
            "------------------------------------------------------------------\n",
            "backers           0.0455   0.0002  203.9500 0.0000  0.0451  0.0459\n",
            "usd_goal_real    -0.0003   0.0000 -201.5858 0.0000 -0.0003 -0.0003\n",
            "==================================================================\n",
            "\n"
          ],
          "name": "stdout"
        }
      ]
    },
    {
      "cell_type": "code",
      "metadata": {
        "id": "M30jlX7l2OqY",
        "colab_type": "code",
        "outputId": "9c910cc7-cd1d-497f-dc86-29ce40390d91",
        "colab": {
          "base_uri": "https://localhost:8080/",
          "height": 85
        }
      },
      "source": [
        "##Confusion matrix - to be put in slides, diagonals are true positive and true negative, off diagonal are false positive (top right) and false negatives##\n",
        "m.pred_table()"
      ],
      "execution_count": 0,
      "outputs": [
        {
          "output_type": "stream",
          "text": [
            "/usr/local/lib/python3.6/dist-packages/statsmodels/discrete/discrete_model.py:1736: RuntimeWarning: overflow encountered in exp\n",
            "  return 1/(1+np.exp(-X))\n"
          ],
          "name": "stderr"
        },
        {
          "output_type": "execute_result",
          "data": {
            "text/plain": [
              "array([[159809.,  16992.],\n",
              "       [  7463.,  92894.]])"
            ]
          },
          "metadata": {
            "tags": []
          },
          "execution_count": 82
        }
      ]
    },
    {
      "cell_type": "code",
      "metadata": {
        "id": "Q1zI151a2RQf",
        "colab_type": "code",
        "outputId": "9dc6e317-18d3-412f-defd-5b55382fa2a4",
        "colab": {
          "base_uri": "https://localhost:8080/",
          "height": 34
        }
      },
      "source": [
        "y_train.sum()"
      ],
      "execution_count": 0,
      "outputs": [
        {
          "output_type": "execute_result",
          "data": {
            "text/plain": [
              "100357"
            ]
          },
          "metadata": {
            "tags": []
          },
          "execution_count": 83
        }
      ]
    },
    {
      "cell_type": "code",
      "metadata": {
        "id": "Xc2vMTjo2Vc_",
        "colab_type": "code",
        "outputId": "4965565b-2213-4739-a93e-b902465f7e5c",
        "colab": {
          "base_uri": "https://localhost:8080/",
          "height": 102
        }
      },
      "source": [
        "n = Logit(y_test,X_test)\n",
        "n = n.fit()\n",
        "#predict on test data\n",
        "y_pred = n.predict(X_test)"
      ],
      "execution_count": 0,
      "outputs": [
        {
          "output_type": "stream",
          "text": [
            "/usr/local/lib/python3.6/dist-packages/statsmodels/discrete/discrete_model.py:1736: RuntimeWarning: overflow encountered in exp\n",
            "  return 1/(1+np.exp(-X))\n"
          ],
          "name": "stderr"
        },
        {
          "output_type": "stream",
          "text": [
            "Optimization terminated successfully.\n",
            "         Current function value: 0.359824\n",
            "         Iterations 13\n"
          ],
          "name": "stdout"
        }
      ]
    },
    {
      "cell_type": "code",
      "metadata": {
        "id": "6snf4zZt2XK3",
        "colab_type": "code",
        "outputId": "c5825d58-38af-4d9e-cac8-00921b094e5b",
        "colab": {
          "base_uri": "https://localhost:8080/",
          "height": 85
        }
      },
      "source": [
        "n.pred_table()"
      ],
      "execution_count": 0,
      "outputs": [
        {
          "output_type": "stream",
          "text": [
            "/usr/local/lib/python3.6/dist-packages/statsmodels/discrete/discrete_model.py:1736: RuntimeWarning: overflow encountered in exp\n",
            "  return 1/(1+np.exp(-X))\n"
          ],
          "name": "stderr"
        },
        {
          "output_type": "execute_result",
          "data": {
            "text/plain": [
              "array([[53325.,  5570.],\n",
              "       [ 2456., 31035.]])"
            ]
          },
          "metadata": {
            "tags": []
          },
          "execution_count": 85
        }
      ]
    },
    {
      "cell_type": "code",
      "metadata": {
        "id": "grRluu8L2Y4X",
        "colab_type": "code",
        "outputId": "5e0f07dd-1cc2-45e5-e433-492a35913539",
        "colab": {
          "base_uri": "https://localhost:8080/",
          "height": 34
        }
      },
      "source": [
        "##AUC (Area under ROC curve) is almost 1.  something seems off here...see graph below. \n",
        "\n",
        "from sklearn import metrics \n",
        "false_positive_rate, true_positive_rate, thresholds = metrics.roc_curve(y_test, y_pred)\n",
        "auc=metrics.auc(false_positive_rate, true_positive_rate)\n",
        "auc"
      ],
      "execution_count": 0,
      "outputs": [
        {
          "output_type": "execute_result",
          "data": {
            "text/plain": [
              "0.9550322276591058"
            ]
          },
          "metadata": {
            "tags": []
          },
          "execution_count": 86
        }
      ]
    },
    {
      "cell_type": "code",
      "metadata": {
        "id": "xlY1wOi02afP",
        "colab_type": "code",
        "outputId": "744176d8-7620-47a5-879c-76d4b0f006d6",
        "colab": {
          "base_uri": "https://localhost:8080/",
          "height": 265
        }
      },
      "source": [
        "plt.plot(false_positive_rate,true_positive_rate,label=\"data 1, auc=\"+str(auc))\n",
        "plt.legend(loc=4)\n",
        "plt.show()"
      ],
      "execution_count": 0,
      "outputs": [
        {
          "output_type": "display_data",
          "data": {
            "image/png": "[encoded data removed]",
            "text/plain": [
              "<Figure size 432x288 with 1 Axes>"
            ]
          },
          "metadata": {
            "tags": []
          }
        }
      ]
    },
    {
      "cell_type": "code",
      "metadata": {
        "id": "cJMjWDpG2b-H",
        "colab_type": "code",
        "colab": {}
      },
      "source": [
        ""
      ],
      "execution_count": 0,
      "outputs": []
    }
  ]
}