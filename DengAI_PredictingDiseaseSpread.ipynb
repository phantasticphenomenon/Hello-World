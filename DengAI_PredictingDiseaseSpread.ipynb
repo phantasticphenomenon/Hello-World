{
  "nbformat": 4,
  "nbformat_minor": 0,
  "metadata": {
    "colab": {
      "name": "Copy of DengAI_PredictingDiseaseSpread.ipynb",
      "provenance": [],
      "collapsed_sections": [
        "tDBGst3t7ssz"
      ],
      "authorship_tag": "ABX9TyMvT19k0v6+blq5mZR5yAxE",
      "include_colab_link": true
    },
    "kernelspec": {
      "name": "python3",
      "display_name": "Python 3"
    },
    "accelerator": "GPU"
  },
  "cells": [
    {
      "cell_type": "markdown",
      "metadata": {
        "id": "view-in-github",
        "colab_type": "text"
      },
      "source": [
        "<a href=\"https://colab.research.google.com/github/phantasticphenomenon/Hello-World/blob/master/DengAI_PredictingDiseaseSpread.ipynb\" target=\"_parent\"><img src=\"https://colab.research.google.com/assets/colab-badge.svg\" alt=\"Open In Colab\"/></a>"
      ]
    },
    {
      "cell_type": "markdown",
      "metadata": {
        "id": "I1xgg_p2hP-p",
        "colab_type": "text"
      },
      "source": [
        "## Problem description\n",
        "\n",
        "The goal is to predict the total_cases label for each (city, year, weekofyear) in the test set.\n",
        "* There are two cities, San Juan and Iquitos, with test data for each city spanning 5 and 3 years respectively. \n",
        "* You will make one submission that contains predictions for both cities. \n",
        "* The data for each city have been concatenated along with a city column indicating the source: sj for San Juan and iq for Iquitos. \n",
        "* The test set is a pure future hold-out, meaning the test data are sequential and non-overlapping with any of the training data. \n",
        "* Throughout, missing values have been filled as NaNs."
      ]
    },
    {
      "cell_type": "markdown",
      "metadata": {
        "id": "pKKdxtfziCoJ",
        "colab_type": "text"
      },
      "source": [
        "\n",
        "## The features in this dataset\n",
        "\n",
        "You are provided the following set of information on a (year, weekofyear) timescale:\n",
        "\n",
        "(Where appropriate, units are provided as a _unit suffix on the feature name.)\n",
        "\n",
        "### City and date indicators\n",
        "* city – City abbreviations: sj for San Juan and  iq for Iquitos\n",
        "* week_start_date – Date given in yyyy-mm-dd format\n",
        "### NOAA's GHCN daily climate data weather station measurements\n",
        "* station_max_temp_c – Maximum temperature\n",
        "* station_min_temp_c – Minimum temperature\n",
        "*station_avg_temp_c – Average temperature\n",
        "* station_precip_mm – Total precipitation\n",
        "* station_diur_temp_rng_c – Diurnal temperature range\n",
        "### PERSIANN satellite precipitation measurements (0.25x0.25 degree scale)\n",
        "* precipitation_amt_mm – Total precipitation\n",
        "### NOAA's NCEP Climate Forecast System Reanalysis measurements (0.5x0.5 degree scale)\n",
        "* reanalysis_sat_precip_amt_mm – Total precipitation\n",
        "* reanalysis_dew_point_temp_k – Mean dew point temperature\n",
        "* reanalysis_air_temp_k – Mean air temperature\n",
        "* reanalysis_relative_humidity_percent – Mean relative humidity\n",
        "* reanalysis_specific_humidity_g_per_kg – Mean specific humidity\n",
        "* reanalysis_precip_amt_kg_per_m2 – Total precipitation\n",
        "* reanalysis_max_air_temp_k – Maximum air temperature\n",
        "* reanalysis_min_air_temp_k – Minimum air temperature\n",
        "* reanalysis_avg_temp_k – Average air temperature\n",
        "* reanalysis_tdtr_k – Diurnal temperature range\n",
        "### Satellite vegetation - Normalized difference vegetation index (NDVI) - NOAA's CDR Normalized Difference Vegetation Index (0.5x0.5 degree scale) measurements\n",
        "* ndvi_se – Pixel southeast of city centroid\n",
        "* ndvi_sw – Pixel southwest of city centroid\n",
        "* ndvi_ne – Pixel northeast of city centroid\n",
        "* ndvi_nw – Pixel northwest of city centroid"
      ]
    },
    {
      "cell_type": "markdown",
      "metadata": {
        "id": "E2p4Nvd0O5mn",
        "colab_type": "text"
      },
      "source": [
        "# **1. Import Libraries**"
      ]
    },
    {
      "cell_type": "code",
      "metadata": {
        "id": "Q9e8qhfPZ2Rm",
        "colab_type": "code",
        "colab": {}
      },
      "source": [
        "#Import numpy and pandas libraries for dataframe and array manipulation\n",
        "import numpy as np\n",
        "import pandas as pd\n",
        "\n",
        "# to make this notebook's output stable across runs\n",
        "np.random.seed(123)\n",
        "\n",
        "# To plot pretty figures\n",
        "%matplotlib inline\n",
        "import matplotlib\n",
        "import matplotlib.pyplot as plt\n",
        "import fileinput\n",
        "from google.colab import files\n",
        "\n",
        "# Import libraries\n",
        "from scipy import stats\n",
        "\n",
        "# import sklearn libraries\n",
        "from sklearn.linear_model import LinearRegression\n",
        "from sklearn.linear_model import Lasso\n",
        "from sklearn.linear_model import ElasticNet\n",
        "from sklearn.linear_model import SGDRegressor\n",
        "from sklearn.neighbors import KNeighborsRegressor\n",
        "from sklearn.naive_bayes import GaussianNB\n",
        "from sklearn.svm import SVR\n",
        "from sklearn.ensemble import GradientBoostingRegressor\n",
        "from sklearn.ensemble import RandomForestRegressor\n",
        "from sklearn.model_selection import GridSearchCV\n",
        "from sklearn.model_selection import cross_val_score\n",
        "from sklearn.model_selection import StratifiedShuffleSplit\n",
        "from sklearn.pipeline import  Pipeline\n",
        "from sklearn.preprocessing import StandardScaler\n",
        "from sklearn.metrics import mean_absolute_error\n",
        "\n",
        "\n"
      ],
      "execution_count": 0,
      "outputs": []
    },
    {
      "cell_type": "code",
      "metadata": {
        "id": "2eGzYTP7b-hj",
        "colab_type": "code",
        "outputId": "2d0e9866-f9e1-4f75-b5ac-23565336eae4",
        "colab": {
          "base_uri": "https://localhost:8080/",
          "height": 34
        }
      },
      "source": [
        "# Mount gdrive to colab\n",
        "from google.colab import drive\n",
        "drive.mount('/content/gdrive')"
      ],
      "execution_count": 109,
      "outputs": [
        {
          "output_type": "stream",
          "text": [
            "Drive already mounted at /content/gdrive; to attempt to forcibly remount, call drive.mount(\"/content/gdrive\", force_remount=True).\n"
          ],
          "name": "stdout"
        }
      ]
    },
    {
      "cell_type": "markdown",
      "metadata": {
        "id": "GNUcuiTHPMOt",
        "colab_type": "text"
      },
      "source": [
        "# **2. Get the data**"
      ]
    },
    {
      "cell_type": "code",
      "metadata": {
        "id": "-sAOropRaUnd",
        "colab_type": "code",
        "colab": {}
      },
      "source": [
        "\n",
        "# Define the location of the input data\n",
        "X_train_filePath =\"/content/gdrive/My Drive/DataScience/3253_Project/dengue_features_train.csv\"\n",
        "y_train_filePath =\"/content/gdrive/My Drive/DataScience/3253_Project/dengue_labels_train.csv\"\n",
        "X_test_filePath =\"/content/gdrive/My Drive/DataScience/3253_Project/dengue_features_test.csv\"\n",
        "#y_test_filePath =\"/content/gdrive/My Drive/DataScience/3253_Project/dengue_labels_test.csv\"\n",
        "\n",
        "# Read data into pandas\n",
        "X_train = pd.read_csv(X_train_filePath, sep=\",\")\n",
        "y_train = pd.read_csv(y_train_filePath, sep=\",\")\n",
        "\n",
        "X_test = pd.read_csv(X_test_filePath, sep=\",\")\n",
        "#y_test = pd.read_csv(y_test_filePath, sep=\",\", index_col=0)\n"
      ],
      "execution_count": 0,
      "outputs": []
    },
    {
      "cell_type": "markdown",
      "metadata": {
        "id": "GfBFEoMfO21z",
        "colab_type": "text"
      },
      "source": [
        "# **3. Overview of the data**"
      ]
    },
    {
      "cell_type": "code",
      "metadata": {
        "id": "lOVmBhPIYo3I",
        "colab_type": "code",
        "outputId": "9fb1e762-c5af-4038-96d1-1a0a1a680321",
        "colab": {
          "base_uri": "https://localhost:8080/",
          "height": 34
        }
      },
      "source": [
        "# Check the features shape\n",
        "X_train.shape"
      ],
      "execution_count": 111,
      "outputs": [
        {
          "output_type": "execute_result",
          "data": {
            "text/plain": [
              "(1456, 24)"
            ]
          },
          "metadata": {
            "tags": []
          },
          "execution_count": 111
        }
      ]
    },
    {
      "cell_type": "code",
      "metadata": {
        "id": "GdyaFUrHdA89",
        "colab_type": "code",
        "outputId": "ba2c2c42-29d8-4a5a-fa47-04ef223f6aa9",
        "colab": {
          "base_uri": "https://localhost:8080/",
          "height": 34
        }
      },
      "source": [
        "# Check the features shape\n",
        "y_train.shape"
      ],
      "execution_count": 112,
      "outputs": [
        {
          "output_type": "execute_result",
          "data": {
            "text/plain": [
              "(1456, 4)"
            ]
          },
          "metadata": {
            "tags": []
          },
          "execution_count": 112
        }
      ]
    },
    {
      "cell_type": "code",
      "metadata": {
        "id": "LXpuUkbJYuo9",
        "colab_type": "code",
        "outputId": "95bc619f-2cad-4b41-bf95-036ab6307007",
        "colab": {
          "base_uri": "https://localhost:8080/",
          "height": 317
        }
      },
      "source": [
        "# Overview of the data\n",
        "X_train.describe()"
      ],
      "execution_count": 113,
      "outputs": [
        {
          "output_type": "execute_result",
          "data": {
            "text/html": [
              "<div>\n",
              "<style scoped>\n",
              "    .dataframe tbody tr th:only-of-type {\n",
              "        vertical-align: middle;\n",
              "    }\n",
              "\n",
              "    .dataframe tbody tr th {\n",
              "        vertical-align: top;\n",
              "    }\n",
              "\n",
              "    .dataframe thead th {\n",
              "        text-align: right;\n",
              "    }\n",
              "</style>\n",
              "<table border=\"1\" class=\"dataframe\">\n",
              "  <thead>\n",
              "    <tr style=\"text-align: right;\">\n",
              "      <th></th>\n",
              "      <th>year</th>\n",
              "      <th>weekofyear</th>\n",
              "      <th>ndvi_ne</th>\n",
              "      <th>ndvi_nw</th>\n",
              "      <th>ndvi_se</th>\n",
              "      <th>ndvi_sw</th>\n",
              "      <th>precipitation_amt_mm</th>\n",
              "      <th>reanalysis_air_temp_k</th>\n",
              "      <th>reanalysis_avg_temp_k</th>\n",
              "      <th>reanalysis_dew_point_temp_k</th>\n",
              "      <th>reanalysis_max_air_temp_k</th>\n",
              "      <th>reanalysis_min_air_temp_k</th>\n",
              "      <th>reanalysis_precip_amt_kg_per_m2</th>\n",
              "      <th>reanalysis_relative_humidity_percent</th>\n",
              "      <th>reanalysis_sat_precip_amt_mm</th>\n",
              "      <th>reanalysis_specific_humidity_g_per_kg</th>\n",
              "      <th>reanalysis_tdtr_k</th>\n",
              "      <th>station_avg_temp_c</th>\n",
              "      <th>station_diur_temp_rng_c</th>\n",
              "      <th>station_max_temp_c</th>\n",
              "      <th>station_min_temp_c</th>\n",
              "      <th>station_precip_mm</th>\n",
              "    </tr>\n",
              "  </thead>\n",
              "  <tbody>\n",
              "    <tr>\n",
              "      <th>count</th>\n",
              "      <td>1456.000000</td>\n",
              "      <td>1456.000000</td>\n",
              "      <td>1262.000000</td>\n",
              "      <td>1404.000000</td>\n",
              "      <td>1434.000000</td>\n",
              "      <td>1434.000000</td>\n",
              "      <td>1443.000000</td>\n",
              "      <td>1446.000000</td>\n",
              "      <td>1446.000000</td>\n",
              "      <td>1446.000000</td>\n",
              "      <td>1446.000000</td>\n",
              "      <td>1446.000000</td>\n",
              "      <td>1446.000000</td>\n",
              "      <td>1446.000000</td>\n",
              "      <td>1443.000000</td>\n",
              "      <td>1446.000000</td>\n",
              "      <td>1446.000000</td>\n",
              "      <td>1413.000000</td>\n",
              "      <td>1413.000000</td>\n",
              "      <td>1436.000000</td>\n",
              "      <td>1442.000000</td>\n",
              "      <td>1434.000000</td>\n",
              "    </tr>\n",
              "    <tr>\n",
              "      <th>mean</th>\n",
              "      <td>2001.031593</td>\n",
              "      <td>26.503434</td>\n",
              "      <td>0.142294</td>\n",
              "      <td>0.130553</td>\n",
              "      <td>0.203783</td>\n",
              "      <td>0.202305</td>\n",
              "      <td>45.760388</td>\n",
              "      <td>298.701852</td>\n",
              "      <td>299.225578</td>\n",
              "      <td>295.246356</td>\n",
              "      <td>303.427109</td>\n",
              "      <td>295.719156</td>\n",
              "      <td>40.151819</td>\n",
              "      <td>82.161959</td>\n",
              "      <td>45.760388</td>\n",
              "      <td>16.746427</td>\n",
              "      <td>4.903754</td>\n",
              "      <td>27.185783</td>\n",
              "      <td>8.059328</td>\n",
              "      <td>32.452437</td>\n",
              "      <td>22.102150</td>\n",
              "      <td>39.326360</td>\n",
              "    </tr>\n",
              "    <tr>\n",
              "      <th>std</th>\n",
              "      <td>5.408314</td>\n",
              "      <td>15.019437</td>\n",
              "      <td>0.140531</td>\n",
              "      <td>0.119999</td>\n",
              "      <td>0.073860</td>\n",
              "      <td>0.083903</td>\n",
              "      <td>43.715537</td>\n",
              "      <td>1.362420</td>\n",
              "      <td>1.261715</td>\n",
              "      <td>1.527810</td>\n",
              "      <td>3.234601</td>\n",
              "      <td>2.565364</td>\n",
              "      <td>43.434399</td>\n",
              "      <td>7.153897</td>\n",
              "      <td>43.715537</td>\n",
              "      <td>1.542494</td>\n",
              "      <td>3.546445</td>\n",
              "      <td>1.292347</td>\n",
              "      <td>2.128568</td>\n",
              "      <td>1.959318</td>\n",
              "      <td>1.574066</td>\n",
              "      <td>47.455314</td>\n",
              "    </tr>\n",
              "    <tr>\n",
              "      <th>min</th>\n",
              "      <td>1990.000000</td>\n",
              "      <td>1.000000</td>\n",
              "      <td>-0.406250</td>\n",
              "      <td>-0.456100</td>\n",
              "      <td>-0.015533</td>\n",
              "      <td>-0.063457</td>\n",
              "      <td>0.000000</td>\n",
              "      <td>294.635714</td>\n",
              "      <td>294.892857</td>\n",
              "      <td>289.642857</td>\n",
              "      <td>297.800000</td>\n",
              "      <td>286.900000</td>\n",
              "      <td>0.000000</td>\n",
              "      <td>57.787143</td>\n",
              "      <td>0.000000</td>\n",
              "      <td>11.715714</td>\n",
              "      <td>1.357143</td>\n",
              "      <td>21.400000</td>\n",
              "      <td>4.528571</td>\n",
              "      <td>26.700000</td>\n",
              "      <td>14.700000</td>\n",
              "      <td>0.000000</td>\n",
              "    </tr>\n",
              "    <tr>\n",
              "      <th>25%</th>\n",
              "      <td>1997.000000</td>\n",
              "      <td>13.750000</td>\n",
              "      <td>0.044950</td>\n",
              "      <td>0.049217</td>\n",
              "      <td>0.155087</td>\n",
              "      <td>0.144209</td>\n",
              "      <td>9.800000</td>\n",
              "      <td>297.658929</td>\n",
              "      <td>298.257143</td>\n",
              "      <td>294.118929</td>\n",
              "      <td>301.000000</td>\n",
              "      <td>293.900000</td>\n",
              "      <td>13.055000</td>\n",
              "      <td>77.177143</td>\n",
              "      <td>9.800000</td>\n",
              "      <td>15.557143</td>\n",
              "      <td>2.328571</td>\n",
              "      <td>26.300000</td>\n",
              "      <td>6.514286</td>\n",
              "      <td>31.100000</td>\n",
              "      <td>21.100000</td>\n",
              "      <td>8.700000</td>\n",
              "    </tr>\n",
              "    <tr>\n",
              "      <th>50%</th>\n",
              "      <td>2002.000000</td>\n",
              "      <td>26.500000</td>\n",
              "      <td>0.128817</td>\n",
              "      <td>0.121429</td>\n",
              "      <td>0.196050</td>\n",
              "      <td>0.189450</td>\n",
              "      <td>38.340000</td>\n",
              "      <td>298.646429</td>\n",
              "      <td>299.289286</td>\n",
              "      <td>295.640714</td>\n",
              "      <td>302.400000</td>\n",
              "      <td>296.200000</td>\n",
              "      <td>27.245000</td>\n",
              "      <td>80.301429</td>\n",
              "      <td>38.340000</td>\n",
              "      <td>17.087143</td>\n",
              "      <td>2.857143</td>\n",
              "      <td>27.414286</td>\n",
              "      <td>7.300000</td>\n",
              "      <td>32.800000</td>\n",
              "      <td>22.200000</td>\n",
              "      <td>23.850000</td>\n",
              "    </tr>\n",
              "    <tr>\n",
              "      <th>75%</th>\n",
              "      <td>2005.000000</td>\n",
              "      <td>39.250000</td>\n",
              "      <td>0.248483</td>\n",
              "      <td>0.216600</td>\n",
              "      <td>0.248846</td>\n",
              "      <td>0.246982</td>\n",
              "      <td>70.235000</td>\n",
              "      <td>299.833571</td>\n",
              "      <td>300.207143</td>\n",
              "      <td>296.460000</td>\n",
              "      <td>305.500000</td>\n",
              "      <td>297.900000</td>\n",
              "      <td>52.200000</td>\n",
              "      <td>86.357857</td>\n",
              "      <td>70.235000</td>\n",
              "      <td>17.978214</td>\n",
              "      <td>7.625000</td>\n",
              "      <td>28.157143</td>\n",
              "      <td>9.566667</td>\n",
              "      <td>33.900000</td>\n",
              "      <td>23.300000</td>\n",
              "      <td>53.900000</td>\n",
              "    </tr>\n",
              "    <tr>\n",
              "      <th>max</th>\n",
              "      <td>2010.000000</td>\n",
              "      <td>53.000000</td>\n",
              "      <td>0.508357</td>\n",
              "      <td>0.454429</td>\n",
              "      <td>0.538314</td>\n",
              "      <td>0.546017</td>\n",
              "      <td>390.600000</td>\n",
              "      <td>302.200000</td>\n",
              "      <td>302.928571</td>\n",
              "      <td>298.450000</td>\n",
              "      <td>314.000000</td>\n",
              "      <td>299.900000</td>\n",
              "      <td>570.500000</td>\n",
              "      <td>98.610000</td>\n",
              "      <td>390.600000</td>\n",
              "      <td>20.461429</td>\n",
              "      <td>16.028571</td>\n",
              "      <td>30.800000</td>\n",
              "      <td>15.800000</td>\n",
              "      <td>42.200000</td>\n",
              "      <td>25.600000</td>\n",
              "      <td>543.300000</td>\n",
              "    </tr>\n",
              "  </tbody>\n",
              "</table>\n",
              "</div>"
            ],
            "text/plain": [
              "              year   weekofyear  ...  station_min_temp_c  station_precip_mm\n",
              "count  1456.000000  1456.000000  ...         1442.000000        1434.000000\n",
              "mean   2001.031593    26.503434  ...           22.102150          39.326360\n",
              "std       5.408314    15.019437  ...            1.574066          47.455314\n",
              "min    1990.000000     1.000000  ...           14.700000           0.000000\n",
              "25%    1997.000000    13.750000  ...           21.100000           8.700000\n",
              "50%    2002.000000    26.500000  ...           22.200000          23.850000\n",
              "75%    2005.000000    39.250000  ...           23.300000          53.900000\n",
              "max    2010.000000    53.000000  ...           25.600000         543.300000\n",
              "\n",
              "[8 rows x 22 columns]"
            ]
          },
          "metadata": {
            "tags": []
          },
          "execution_count": 113
        }
      ]
    },
    {
      "cell_type": "code",
      "metadata": {
        "id": "To5dEVrVcr3V",
        "colab_type": "code",
        "outputId": "dde302e5-a50b-4e79-9b71-f5823af00389",
        "colab": {
          "base_uri": "https://localhost:8080/",
          "height": 544
        }
      },
      "source": [
        "# The feature attributes\n",
        "X_train.info()"
      ],
      "execution_count": 114,
      "outputs": [
        {
          "output_type": "stream",
          "text": [
            "<class 'pandas.core.frame.DataFrame'>\n",
            "RangeIndex: 1456 entries, 0 to 1455\n",
            "Data columns (total 24 columns):\n",
            " #   Column                                 Non-Null Count  Dtype  \n",
            "---  ------                                 --------------  -----  \n",
            " 0   city                                   1456 non-null   object \n",
            " 1   year                                   1456 non-null   int64  \n",
            " 2   weekofyear                             1456 non-null   int64  \n",
            " 3   week_start_date                        1456 non-null   object \n",
            " 4   ndvi_ne                                1262 non-null   float64\n",
            " 5   ndvi_nw                                1404 non-null   float64\n",
            " 6   ndvi_se                                1434 non-null   float64\n",
            " 7   ndvi_sw                                1434 non-null   float64\n",
            " 8   precipitation_amt_mm                   1443 non-null   float64\n",
            " 9   reanalysis_air_temp_k                  1446 non-null   float64\n",
            " 10  reanalysis_avg_temp_k                  1446 non-null   float64\n",
            " 11  reanalysis_dew_point_temp_k            1446 non-null   float64\n",
            " 12  reanalysis_max_air_temp_k              1446 non-null   float64\n",
            " 13  reanalysis_min_air_temp_k              1446 non-null   float64\n",
            " 14  reanalysis_precip_amt_kg_per_m2        1446 non-null   float64\n",
            " 15  reanalysis_relative_humidity_percent   1446 non-null   float64\n",
            " 16  reanalysis_sat_precip_amt_mm           1443 non-null   float64\n",
            " 17  reanalysis_specific_humidity_g_per_kg  1446 non-null   float64\n",
            " 18  reanalysis_tdtr_k                      1446 non-null   float64\n",
            " 19  station_avg_temp_c                     1413 non-null   float64\n",
            " 20  station_diur_temp_rng_c                1413 non-null   float64\n",
            " 21  station_max_temp_c                     1436 non-null   float64\n",
            " 22  station_min_temp_c                     1442 non-null   float64\n",
            " 23  station_precip_mm                      1434 non-null   float64\n",
            "dtypes: float64(20), int64(2), object(2)\n",
            "memory usage: 273.1+ KB\n"
          ],
          "name": "stdout"
        }
      ]
    },
    {
      "cell_type": "markdown",
      "metadata": {
        "id": "WOyjm8X4HBYm",
        "colab_type": "text"
      },
      "source": [
        "**Summary**\n",
        "\n"
      ]
    },
    {
      "cell_type": "markdown",
      "metadata": {
        "id": "wU6lC8v_GBrg",
        "colab_type": "text"
      },
      "source": [
        "# **4. Exploratory Data Analysis**"
      ]
    },
    {
      "cell_type": "code",
      "metadata": {
        "id": "4fLmibpuHAr1",
        "colab_type": "code",
        "colab": {}
      },
      "source": [
        "# Merge the features data and the labels data\n",
        "df = X_train.merge(y_train, how='inner', left_on=['city', 'year', 'weekofyear'], right_on=['city', 'year', 'weekofyear'])\n",
        "df = df.sort_values(['city', 'year', 'weekofyear'])"
      ],
      "execution_count": 0,
      "outputs": []
    },
    {
      "cell_type": "code",
      "metadata": {
        "id": "-DB0aGKoK9s8",
        "colab_type": "code",
        "colab": {
          "base_uri": "https://localhost:8080/",
          "height": 51
        },
        "outputId": "522f6f9a-128e-4de8-c7dd-ee8425d52602"
      },
      "source": [
        "#Check the size of the samples for each city\n",
        "print(df[df['city'] == 'sj'].shape)\n",
        "print(df[df['city'] == 'iq'].shape)"
      ],
      "execution_count": 116,
      "outputs": [
        {
          "output_type": "stream",
          "text": [
            "(936, 25)\n",
            "(520, 25)\n"
          ],
          "name": "stdout"
        }
      ]
    },
    {
      "cell_type": "markdown",
      "metadata": {
        "id": "TXYs_w84LVr2",
        "colab_type": "text"
      },
      "source": [
        "**The cities have different  size samples , so stratified sampling is used**"
      ]
    },
    {
      "cell_type": "code",
      "metadata": {
        "id": "E2htUh4GIhoV",
        "colab_type": "code",
        "colab": {}
      },
      "source": [
        "# Split the data into train and validation using stratified sampling\n",
        "split = StratifiedShuffleSplit(n_splits=1, test_size=0.2, random_state=42)\n",
        "for train_index, test_index in split.split(df, df[\"city\"]):\n",
        "    df_train = df.loc[train_index]\n",
        "    df_val = df.loc[test_index]"
      ],
      "execution_count": 0,
      "outputs": []
    },
    {
      "cell_type": "code",
      "metadata": {
        "id": "thhXhpDGFwgF",
        "colab_type": "code",
        "outputId": "bbd184eb-6cb6-4ab7-8f25-5af1f6cc7c18",
        "colab": {
          "base_uri": "https://localhost:8080/",
          "height": 913
        }
      },
      "source": [
        "# Visualise the data\n",
        "df_train.hist(bins=50, figsize=(20,15))\n",
        "plt.show()\n",
        "plt.suptitle('figure title', color='w')"
      ],
      "execution_count": 118,
      "outputs": [
        {
          "output_type": "display_data",
          "data": {
            "image/png": "[encoded data removed]",
            "text/plain": [
              "<Figure size 1440x1080 with 25 Axes>"
            ]
          },
          "metadata": {
            "tags": [],
            "needs_background": "light"
          }
        },
        {
          "output_type": "execute_result",
          "data": {
            "text/plain": [
              "Text(0.5, 0.98, 'figure title')"
            ]
          },
          "metadata": {
            "tags": []
          },
          "execution_count": 118
        },
        {
          "output_type": "display_data",
          "data": {
            "text/plain": [
              "<Figure size 432x288 with 0 Axes>"
            ]
          },
          "metadata": {
            "tags": []
          }
        }
      ]
    },
    {
      "cell_type": "markdown",
      "metadata": {
        "id": "olSaMdw0N6m8",
        "colab_type": "text"
      },
      "source": [
        "**Splitting the data by city and cleaning it**"
      ]
    },
    {
      "cell_type": "code",
      "metadata": {
        "id": "3AY0M67jme0c",
        "colab_type": "code",
        "colab": {}
      },
      "source": [
        "def df_split(x):\n",
        "  x_sj = x[x['city'] == 'sj'].sort_values(['city', 'year', 'weekofyear'])\n",
        "  x_iq = x[x['city'] == 'iq'].sort_values(['city', 'year', 'weekofyear'])\n",
        "  return x_sj, x_iq"
      ],
      "execution_count": 0,
      "outputs": []
    },
    {
      "cell_type": "code",
      "metadata": {
        "id": "cUu7RQYKPFyl",
        "colab_type": "code",
        "colab": {}
      },
      "source": [
        "df_sj,df_iq = df_split(df_train)"
      ],
      "execution_count": 0,
      "outputs": []
    },
    {
      "cell_type": "code",
      "metadata": {
        "id": "OzSEwcz2QDaL",
        "colab_type": "code",
        "colab": {
          "base_uri": "https://localhost:8080/",
          "height": 459
        },
        "outputId": "0bc018dc-e174-4e4f-94f6-49fde7a36b02"
      },
      "source": [
        "# Check for missing values in San juan dataand deciding on how to deal with them\n",
        "df_sj.isna().sum() "
      ],
      "execution_count": 121,
      "outputs": [
        {
          "output_type": "execute_result",
          "data": {
            "text/plain": [
              "city                                       0\n",
              "year                                       0\n",
              "weekofyear                                 0\n",
              "week_start_date                            0\n",
              "ndvi_ne                                  155\n",
              "ndvi_nw                                   38\n",
              "ndvi_se                                   16\n",
              "ndvi_sw                                   16\n",
              "precipitation_amt_mm                       7\n",
              "reanalysis_air_temp_k                      4\n",
              "reanalysis_avg_temp_k                      4\n",
              "reanalysis_dew_point_temp_k                4\n",
              "reanalysis_max_air_temp_k                  4\n",
              "reanalysis_min_air_temp_k                  4\n",
              "reanalysis_precip_amt_kg_per_m2            4\n",
              "reanalysis_relative_humidity_percent       4\n",
              "reanalysis_sat_precip_amt_mm               7\n",
              "reanalysis_specific_humidity_g_per_kg      4\n",
              "reanalysis_tdtr_k                          4\n",
              "station_avg_temp_c                         4\n",
              "station_diur_temp_rng_c                    4\n",
              "station_max_temp_c                         4\n",
              "station_min_temp_c                         4\n",
              "station_precip_mm                          4\n",
              "total_cases                                0\n",
              "dtype: int64"
            ]
          },
          "metadata": {
            "tags": []
          },
          "execution_count": 121
        }
      ]
    },
    {
      "cell_type": "code",
      "metadata": {
        "id": "VEEWfltGQTID",
        "colab_type": "code",
        "colab": {
          "base_uri": "https://localhost:8080/",
          "height": 459
        },
        "outputId": "25bc23f4-0294-49bb-983f-3b66a9bc233d"
      },
      "source": [
        "# Check for missing values in Iquitp data and deciding on how to deal with them\n",
        "df_iq.isna().sum() "
      ],
      "execution_count": 122,
      "outputs": [
        {
          "output_type": "execute_result",
          "data": {
            "text/plain": [
              "city                                      0\n",
              "year                                      0\n",
              "weekofyear                                0\n",
              "week_start_date                           0\n",
              "ndvi_ne                                   2\n",
              "ndvi_nw                                   2\n",
              "ndvi_se                                   2\n",
              "ndvi_sw                                   2\n",
              "precipitation_amt_mm                      4\n",
              "reanalysis_air_temp_k                     4\n",
              "reanalysis_avg_temp_k                     4\n",
              "reanalysis_dew_point_temp_k               4\n",
              "reanalysis_max_air_temp_k                 4\n",
              "reanalysis_min_air_temp_k                 4\n",
              "reanalysis_precip_amt_kg_per_m2           4\n",
              "reanalysis_relative_humidity_percent      4\n",
              "reanalysis_sat_precip_amt_mm              4\n",
              "reanalysis_specific_humidity_g_per_kg     4\n",
              "reanalysis_tdtr_k                         4\n",
              "station_avg_temp_c                       34\n",
              "station_diur_temp_rng_c                  34\n",
              "station_max_temp_c                       12\n",
              "station_min_temp_c                        7\n",
              "station_precip_mm                        13\n",
              "total_cases                               0\n",
              "dtype: int64"
            ]
          },
          "metadata": {
            "tags": []
          },
          "execution_count": 122
        }
      ]
    },
    {
      "cell_type": "markdown",
      "metadata": {
        "id": "9LMEX1FbQt3s",
        "colab_type": "text"
      },
      "source": [
        "* There are more missing values from in station_avg_temp_c, station_diur_temp_rng_c, station_max_temp_c, station_min_temp_c, station_precip_mm, which is the temperature data.\n",
        "* The missing values for temperatures will be imputed with ffill as temperature \n",
        "* We use front fill, which uses the prior observation to impute, and this will work well for temperature is it normally circle around the same range of values."
      ]
    },
    {
      "cell_type": "code",
      "metadata": {
        "id": "rOW8hsvOQzIa",
        "colab_type": "code",
        "colab": {}
      },
      "source": [
        "df_sj = df_sj.fillna(df_sj.median())\n",
        "df_iq = df_iq.fillna(method = 'ffill')"
      ],
      "execution_count": 0,
      "outputs": []
    },
    {
      "cell_type": "code",
      "metadata": {
        "id": "1NeKJKRPRW5h",
        "colab_type": "code",
        "colab": {}
      },
      "source": [
        "# function to plot the graphs\n",
        "def plot_city(df_city,city):\n",
        "    df_city['total_cases'].plot(figsize = (15,5))\n",
        "    plt.title(str(city))\n",
        "    plt.xlabel(\"Year, Week of Year\")\n",
        "    plt.ylabel(\"Number of Cases\")"
      ],
      "execution_count": 0,
      "outputs": []
    },
    {
      "cell_type": "code",
      "metadata": {
        "id": "n9-uH5maSJ23",
        "colab_type": "code",
        "colab": {
          "base_uri": "https://localhost:8080/",
          "height": 350
        },
        "outputId": "11fe22a2-3dc1-4a94-f0b2-0bf1f12f2338"
      },
      "source": [
        "plot_city(df_sj,'sj')\n"
      ],
      "execution_count": 125,
      "outputs": [
        {
          "output_type": "display_data",
          "data": {
            "image/png": "[encoded data removed]",
            "text/plain": [
              "<Figure size 1080x360 with 1 Axes>"
            ]
          },
          "metadata": {
            "tags": [],
            "needs_background": "light"
          }
        }
      ]
    },
    {
      "cell_type": "code",
      "metadata": {
        "id": "tGk-RpGvTagR",
        "colab_type": "code",
        "colab": {
          "base_uri": "https://localhost:8080/",
          "height": 350
        },
        "outputId": "79160181-50d8-4fbc-ddb6-63cce95b51bc"
      },
      "source": [
        "plot_city(df_iq,'iq')"
      ],
      "execution_count": 126,
      "outputs": [
        {
          "output_type": "display_data",
          "data": {
            "image/png": "[encoded data removed]",
            "text/plain": [
              "<Figure size 1080x360 with 1 Axes>"
            ]
          },
          "metadata": {
            "tags": [],
            "needs_background": "light"
          }
        }
      ]
    },
    {
      "cell_type": "markdown",
      "metadata": {
        "id": "q9gdTEeYJYpo",
        "colab_type": "text"
      },
      "source": [
        "* There are some spikes in the data for both cities. \n",
        "* The spikes will be treated as outliers and will be reduced so that the data has a cyclic trend, which will be much better at predicting the spread.\n",
        "* The spikes are pandemic cases which is not a cyclic thing.\n"
      ]
    },
    {
      "cell_type": "code",
      "metadata": {
        "id": "uDI2k37rPFDa",
        "colab_type": "code",
        "colab": {
          "base_uri": "https://localhost:8080/",
          "height": 265
        },
        "outputId": "ad14f8e3-ead5-45cb-866a-281fad2ece67"
      },
      "source": [
        "ax_sj = df_sj['total_cases'].plot.kde(bw_method=0.3)"
      ],
      "execution_count": 127,
      "outputs": [
        {
          "output_type": "display_data",
          "data": {
            "image/png": "[encoded data removed]",
            "text/plain": [
              "<Figure size 432x288 with 1 Axes>"
            ]
          },
          "metadata": {
            "tags": [],
            "needs_background": "light"
          }
        }
      ]
    },
    {
      "cell_type": "code",
      "metadata": {
        "id": "8v0ogQkrWHHE",
        "colab_type": "code",
        "colab": {
          "base_uri": "https://localhost:8080/",
          "height": 265
        },
        "outputId": "80586fdf-59ff-413b-8d53-8ec3883b9a2c"
      },
      "source": [
        "ax_iq = df_iq['total_cases'].plot.kde(bw_method=0.3)"
      ],
      "execution_count": 128,
      "outputs": [
        {
          "output_type": "display_data",
          "data": {
            "image/png": "[encoded data removed]",
            "text/plain": [
              "<Figure size 432x288 with 1 Axes>"
            ]
          },
          "metadata": {
            "tags": [],
            "needs_background": "light"
          }
        }
      ]
    },
    {
      "cell_type": "markdown",
      "metadata": {
        "id": "KAxVUCfDaByZ",
        "colab_type": "text"
      },
      "source": [
        "* Th z-score will be used to identify the outliers or pandemics\n",
        "* z-score is used as the number of total cases data follows a normal distribution"
      ]
    },
    {
      "cell_type": "code",
      "metadata": {
        "id": "nkDH_lD2Z-xY",
        "colab_type": "code",
        "colab": {}
      },
      "source": [
        "# Using the z-score to identify outliers.\n",
        "\n",
        "z_sj = np.abs(stats.zscore(df_sj['total_cases']))\n",
        "#print(z_sj)"
      ],
      "execution_count": 0,
      "outputs": []
    },
    {
      "cell_type": "code",
      "metadata": {
        "id": "QiTNf2sobXzU",
        "colab_type": "code",
        "colab": {}
      },
      "source": [
        "z_iq = np.abs(stats.zscore(df_iq['total_cases']))\n",
        "#print(z_iq)"
      ],
      "execution_count": 0,
      "outputs": []
    },
    {
      "cell_type": "code",
      "metadata": {
        "id": "hgL1JkfrbxO8",
        "colab_type": "code",
        "outputId": "7b4859b1-0399-481f-94cb-b88437d7c242",
        "colab": {
          "base_uri": "https://localhost:8080/",
          "height": 85
        }
      },
      "source": [
        "# Setting threshold to identifying data points above that\n",
        "threshold = 2\n",
        "print(np.where(z_sj > threshold))\n",
        "print(np.where(z_iq > threshold))"
      ],
      "execution_count": 131,
      "outputs": [
        {
          "output_type": "stream",
          "text": [
            "(array([ 62,  67, 184, 185, 186, 187, 188, 189, 190, 191, 192, 193, 194,\n",
            "       195, 196, 197, 346, 347, 348, 349, 350, 351]),)\n",
            "(array([ 93,  95, 100, 101, 186, 187, 189, 190, 234, 235, 238, 314, 317,\n",
            "       318, 320, 321, 322, 324, 351, 352, 353, 354, 364, 365]),)\n"
          ],
          "name": "stdout"
        }
      ]
    },
    {
      "cell_type": "code",
      "metadata": {
        "id": "JPO613hZfAXX",
        "colab_type": "code",
        "outputId": "feb265f0-6baa-47de-97c8-2c5d650d300e",
        "colab": {
          "base_uri": "https://localhost:8080/",
          "height": 350
        }
      },
      "source": [
        "# Setting the threshold to 3 for city of San Juan and ploting the graphs showing the transformation\n",
        "sj_t = df_sj[(z_sj < 3)]\n",
        "plot_city(df_sj,'sj')\n",
        "plot_city(sj_t,'sj')"
      ],
      "execution_count": 132,
      "outputs": [
        {
          "output_type": "display_data",
          "data": {
            "image/png": "[encoded data removed]",
            "text/plain": [
              "<Figure size 1080x360 with 1 Axes>"
            ]
          },
          "metadata": {
            "tags": [],
            "needs_background": "light"
          }
        }
      ]
    },
    {
      "cell_type": "code",
      "metadata": {
        "id": "VvuNcakVfAmo",
        "colab_type": "code",
        "outputId": "dee7c469-36e8-4571-88fc-5e64649399d9",
        "colab": {
          "base_uri": "https://localhost:8080/",
          "height": 350
        }
      },
      "source": [
        "# Setting the threshold to 3 for city of Iquitos and ploting the graphs showing the transformation\n",
        "iq_t = df_iq[(z_iq < 5)]\n",
        "plot_city(df_iq,'iq')\n",
        "plot_city(iq_t,'iq')"
      ],
      "execution_count": 133,
      "outputs": [
        {
          "output_type": "display_data",
          "data": {
            "image/png": "[encoded data removed]",
            "text/plain": [
              "<Figure size 1080x360 with 1 Axes>"
            ]
          },
          "metadata": {
            "tags": [],
            "needs_background": "light"
          }
        }
      ]
    },
    {
      "cell_type": "markdown",
      "metadata": {
        "id": "V-6Saum9exT6",
        "colab_type": "text"
      },
      "source": [
        "** The graphs now look more normalised **"
      ]
    },
    {
      "cell_type": "markdown",
      "metadata": {
        "id": "yZU41-gbWSWj",
        "colab_type": "text"
      },
      "source": [
        "# **Prepare the Data for ML algorithms**"
      ]
    },
    {
      "cell_type": "code",
      "metadata": {
        "id": "dv4In6WQbdiV",
        "colab_type": "code",
        "colab": {}
      },
      "source": [
        "# Define columns to drop\n",
        "columns_drop = [\"week_start_date\",\"weekofyear\",\"year\",\"reanalysis_air_temp_k\"]"
      ],
      "execution_count": 0,
      "outputs": []
    },
    {
      "cell_type": "code",
      "metadata": {
        "id": "kT4DcVfYg_Ig",
        "colab_type": "code",
        "colab": {}
      },
      "source": [
        "def get_train_test(df1,df2):\n",
        "  df = pd.concat([df1, df2])\n",
        "  X = df.drop([\"total_cases\"], axis=1)\n",
        "  y = df[\"total_cases\"]\n",
        "  return X,y"
      ],
      "execution_count": 0,
      "outputs": []
    },
    {
      "cell_type": "code",
      "metadata": {
        "id": "ZIsQOapfCbNB",
        "colab_type": "code",
        "colab": {}
      },
      "source": [
        "X_train, y_train = get_train_test(sj_t,iq_t)\n"
      ],
      "execution_count": 0,
      "outputs": []
    },
    {
      "cell_type": "code",
      "metadata": {
        "id": "ezirn2-YQEBu",
        "colab_type": "code",
        "colab": {}
      },
      "source": [
        "\n",
        "# apply le on categorical feature columns\n",
        "def encode_cat(x):\n",
        "  # import labelencoder\n",
        "  from sklearn.preprocessing import LabelEncoder\n",
        "\n",
        "  # Identify categorical columns\n",
        "  categorical_feature_mask = x.dtypes==object\n",
        "  # filter categorical columns using mask and turn it into a list\n",
        "  categorical_cols = x.columns[categorical_feature_mask].tolist()\n",
        "  \n",
        "  # instantiate labelencoder object\n",
        "  le = LabelEncoder()\n",
        "  #Apply the label encoder to the data\n",
        "  x[categorical_cols] = x[categorical_cols].apply(lambda col: le.fit_transform(col))\n",
        "  return x"
      ],
      "execution_count": 0,
      "outputs": []
    },
    {
      "cell_type": "code",
      "metadata": {
        "id": "g-ufCyKxSfUy",
        "colab_type": "code",
        "colab": {}
      },
      "source": [
        "X_train_num = encode_cat(X_train)\n"
      ],
      "execution_count": 0,
      "outputs": []
    },
    {
      "cell_type": "code",
      "metadata": {
        "id": "MisrogNQjnXp",
        "colab_type": "code",
        "colab": {}
      },
      "source": [
        "# Drop the columns\n",
        "X_train_tr = X_train_num.drop(columns_drop, axis=1)\n"
      ],
      "execution_count": 0,
      "outputs": []
    },
    {
      "cell_type": "code",
      "metadata": {
        "id": "ismfhKT4bcES",
        "colab_type": "code",
        "colab": {}
      },
      "source": [
        "#Pipeline for scaling data\n",
        "num_pipeline = Pipeline([                       \n",
        "                         ('std_scaler', StandardScaler()),\n",
        "])\n",
        "X_train_tr = num_pipeline.fit_transform(X_train_tr)"
      ],
      "execution_count": 0,
      "outputs": []
    },
    {
      "cell_type": "code",
      "metadata": {
        "id": "kwT1MKVMAPcn",
        "colab_type": "code",
        "colab": {}
      },
      "source": [
        "#"
      ],
      "execution_count": 0,
      "outputs": []
    },
    {
      "cell_type": "code",
      "metadata": {
        "id": "KmFGO1emW9ig",
        "colab_type": "code",
        "colab": {}
      },
      "source": [
        "# Process the validation data\n",
        "X_val_sj,X_val_iq = df_split(df_val)\n",
        "X_val_sj = X_val_sj.fillna(df_sj.median())\n",
        "X_val_iq = X_val_iq.fillna(method = 'ffill')\n",
        "X_val_num, y_val = get_train_test(X_val_sj,X_val_iq)\n",
        "X_val_num = encode_cat(X_val_num)\n",
        "X_val_tr = X_val_num.drop(columns_drop, axis=1)\n",
        "X_val_tr = num_pipeline.fit_transform(X_val_tr)\n"
      ],
      "execution_count": 0,
      "outputs": []
    },
    {
      "cell_type": "code",
      "metadata": {
        "id": "2n6sKrxQKMRb",
        "colab_type": "code",
        "colab": {}
      },
      "source": [
        "# Process the test data\n",
        "X_test_sj,X_test_iq = df_split(X_test)\n",
        "X_test_sj = X_test_sj.fillna(df_sj.median())\n",
        "X_test_iq = X_test_iq.fillna(method = 'ffill')\n",
        "X_test_num = pd.concat([X_test_sj, X_test_iq])\n",
        "X_test_num = encode_cat(X_test_num)\n",
        "X_test_tr = X_test_num.drop(columns_drop, axis=1)\n",
        "X_test_tr = num_pipeline.fit_transform(X_test_tr)"
      ],
      "execution_count": 0,
      "outputs": []
    },
    {
      "cell_type": "code",
      "metadata": {
        "id": "f0vYzX1hOAqy",
        "colab_type": "code",
        "colab": {}
      },
      "source": [
        ""
      ],
      "execution_count": 0,
      "outputs": []
    },
    {
      "cell_type": "code",
      "metadata": {
        "id": "csJz5VoEMfzl",
        "colab_type": "code",
        "colab": {
          "base_uri": "https://localhost:8080/",
          "height": 34
        },
        "outputId": "2ae61de9-a25f-492b-a904-b5337dd049aa"
      },
      "source": [
        "X_train_tr.shape"
      ],
      "execution_count": 231,
      "outputs": [
        {
          "output_type": "execute_result",
          "data": {
            "text/plain": [
              "(1145, 20)"
            ]
          },
          "metadata": {
            "tags": []
          },
          "execution_count": 231
        }
      ]
    },
    {
      "cell_type": "code",
      "metadata": {
        "id": "v064k1H4_gkA",
        "colab_type": "code",
        "colab": {
          "base_uri": "https://localhost:8080/",
          "height": 34
        },
        "outputId": "98212820-a023-43aa-cc7f-5946226754d1"
      },
      "source": [
        "X_val_tr.shape"
      ],
      "execution_count": 232,
      "outputs": [
        {
          "output_type": "execute_result",
          "data": {
            "text/plain": [
              "(292, 20)"
            ]
          },
          "metadata": {
            "tags": []
          },
          "execution_count": 232
        }
      ]
    },
    {
      "cell_type": "code",
      "metadata": {
        "id": "W8OIYFAXLyGS",
        "colab_type": "code",
        "colab": {
          "base_uri": "https://localhost:8080/",
          "height": 34
        },
        "outputId": "5ff19ebb-6a66-4388-c715-0ae056977124"
      },
      "source": [
        "X_test_tr.shape\n"
      ],
      "execution_count": 233,
      "outputs": [
        {
          "output_type": "execute_result",
          "data": {
            "text/plain": [
              "(416, 20)"
            ]
          },
          "metadata": {
            "tags": []
          },
          "execution_count": 233
        }
      ]
    },
    {
      "cell_type": "code",
      "metadata": {
        "id": "EgmCU7hlAChW",
        "colab_type": "code",
        "colab": {
          "base_uri": "https://localhost:8080/",
          "height": 34
        },
        "outputId": "0031cdd0-8cbf-4593-b131-824cb6f2078d"
      },
      "source": [
        "y_val.shape"
      ],
      "execution_count": 234,
      "outputs": [
        {
          "output_type": "execute_result",
          "data": {
            "text/plain": [
              "(292,)"
            ]
          },
          "metadata": {
            "tags": []
          },
          "execution_count": 234
        }
      ]
    },
    {
      "cell_type": "markdown",
      "metadata": {
        "id": "YYmd71ht1jyH",
        "colab_type": "text"
      },
      "source": [
        "# **Select and Train a model**"
      ]
    },
    {
      "cell_type": "code",
      "metadata": {
        "id": "-5LV5XjdIh4c",
        "colab_type": "code",
        "colab": {}
      },
      "source": [
        "\n",
        "def display_scores(scores):\n",
        "  print(\"Scores:\", scores)\n",
        "  print(\"Mean:\", scores.mean())\n",
        "  print(\"Standard deviation:\", scores.std())"
      ],
      "execution_count": 0,
      "outputs": []
    },
    {
      "cell_type": "code",
      "metadata": {
        "id": "0xXk6c84122b",
        "colab_type": "code",
        "colab": {}
      },
      "source": [
        "models=[LinearRegression(),Lasso(alpha=.5),KNeighborsRegressor(),GaussianNB(),\n",
        "        SVR(kernel='rbf'),GradientBoostingRegressor(),RandomForestRegressor(),SGDRegressor(max_iter=1000, tol=1e-3) ]"
      ],
      "execution_count": 0,
      "outputs": []
    },
    {
      "cell_type": "code",
      "metadata": {
        "id": "VWgHnw6y1_e5",
        "colab_type": "code",
        "outputId": "5224fea9-c5ef-4583-f283-4e97e51283c9",
        "colab": {
          "base_uri": "https://localhost:8080/",
          "height": 1000
        }
      },
      "source": [
        "for model in models:\n",
        "  scores = cross_val_score(model, X_train_tr, y_train, \n",
        "                         scoring = \"neg_mean_absolute_error\", cv=5)\n",
        "  print(\"*******************************\\n\\n\")\n",
        "  print(model)\n",
        "  display_scores(-scores)\n",
        "\n",
        "  "
      ],
      "execution_count": 184,
      "outputs": [
        {
          "output_type": "stream",
          "text": [
            "*******************************\n",
            "\n",
            "\n",
            "LinearRegression(copy_X=True, fit_intercept=True, n_jobs=None, normalize=False)\n",
            "Scores: [22.55492956 21.77399518 25.17171156 10.69799925  9.05204756]\n",
            "Mean: 17.850136621994277\n",
            "Standard deviation: 6.628674713623902\n",
            "*******************************\n",
            "\n",
            "\n",
            "Lasso(alpha=0.5, copy_X=True, fit_intercept=True, max_iter=1000,\n",
            "      normalize=False, positive=False, precompute=False, random_state=None,\n",
            "      selection='cyclic', tol=0.0001, warm_start=False)\n",
            "Scores: [22.17167685 21.45818827 24.07924542 10.0002139   7.93237422]\n",
            "Mean: 17.12833972956241\n",
            "Standard deviation: 6.750909377121512\n",
            "*******************************\n",
            "\n",
            "\n",
            "KNeighborsRegressor(algorithm='auto', leaf_size=30, metric='minkowski',\n",
            "                    metric_params=None, n_jobs=None, n_neighbors=5, p=2,\n",
            "                    weights='uniform')\n",
            "Scores: [26.09868996 25.60611354 25.75982533 10.21484716  6.61222707]\n",
            "Mean: 18.858340611353714\n",
            "Standard deviation: 8.605380469947326\n",
            "*******************************\n",
            "\n",
            "\n",
            "GaussianNB(priors=None, var_smoothing=1e-09)\n",
            "Scores: [34.40174672 31.36681223 25.54585153 17.16593886 15.36244541]\n",
            "Mean: 24.768558951965062\n",
            "Standard deviation: 7.526144308552859\n"
          ],
          "name": "stdout"
        },
        {
          "output_type": "stream",
          "text": [
            "/usr/local/lib/python3.6/dist-packages/sklearn/model_selection/_split.py:667: UserWarning: The least populated class in y has only 1 members, which is less than n_splits=5.\n",
            "  % (min_groups, self.n_splits)), UserWarning)\n"
          ],
          "name": "stderr"
        },
        {
          "output_type": "stream",
          "text": [
            "*******************************\n",
            "\n",
            "\n",
            "SVR(C=1.0, cache_size=200, coef0=0.0, degree=3, epsilon=0.1, gamma='scale',\n",
            "    kernel='rbf', max_iter=-1, shrinking=True, tol=0.001, verbose=False)\n",
            "Scores: [25.99433417 21.16562355 15.74084902  9.1649238   6.12967188]\n",
            "Mean: 15.639080484016224\n",
            "Standard deviation: 7.350209125473465\n",
            "*******************************\n",
            "\n",
            "\n",
            "GradientBoostingRegressor(alpha=0.9, ccp_alpha=0.0, criterion='friedman_mse',\n",
            "                          init=None, learning_rate=0.1, loss='ls', max_depth=3,\n",
            "                          max_features=None, max_leaf_nodes=None,\n",
            "                          min_impurity_decrease=0.0, min_impurity_split=None,\n",
            "                          min_samples_leaf=1, min_samples_split=2,\n",
            "                          min_weight_fraction_leaf=0.0, n_estimators=100,\n",
            "                          n_iter_no_change=None, presort='deprecated',\n",
            "                          random_state=None, subsample=1.0, tol=0.0001,\n",
            "                          validation_fraction=0.1, verbose=0, warm_start=False)\n",
            "Scores: [24.1051281  23.43238855 28.36183939 10.96396747  7.10163418]\n",
            "Mean: 18.792991537122454\n",
            "Standard deviation: 8.237561572783264\n",
            "*******************************\n",
            "\n",
            "\n",
            "RandomForestRegressor(bootstrap=True, ccp_alpha=0.0, criterion='mse',\n",
            "                      max_depth=None, max_features='auto', max_leaf_nodes=None,\n",
            "                      max_samples=None, min_impurity_decrease=0.0,\n",
            "                      min_impurity_split=None, min_samples_leaf=1,\n",
            "                      min_samples_split=2, min_weight_fraction_leaf=0.0,\n",
            "                      n_estimators=100, n_jobs=None, oob_score=False,\n",
            "                      random_state=None, verbose=0, warm_start=False)\n",
            "Scores: [23.75786099 23.74321689 30.07049272 10.55251747  6.76860262]\n",
            "Mean: 18.97853813682678\n",
            "Standard deviation: 8.816528757652867\n",
            "*******************************\n",
            "\n",
            "\n",
            "SGDRegressor(alpha=0.0001, average=False, early_stopping=False, epsilon=0.1,\n",
            "             eta0=0.01, fit_intercept=True, l1_ratio=0.15,\n",
            "             learning_rate='invscaling', loss='squared_loss', max_iter=1000,\n",
            "             n_iter_no_change=5, penalty='l2', power_t=0.25, random_state=None,\n",
            "             shuffle=True, tol=0.001, validation_fraction=0.1, verbose=0,\n",
            "             warm_start=False)\n",
            "Scores: [22.37789593 21.89255876 23.86056832 10.27785157  8.2054787 ]\n",
            "Mean: 17.322870654741294\n",
            "Standard deviation: 6.662371210647968\n"
          ],
          "name": "stdout"
        }
      ]
    },
    {
      "cell_type": "markdown",
      "metadata": {
        "id": "tDBGst3t7ssz",
        "colab_type": "text"
      },
      "source": [
        "* SVR has the best MAE score of 15.639080484016224\n",
        "* Lasso has the second best MAE of 17.028630102354043"
      ]
    },
    {
      "cell_type": "markdown",
      "metadata": {
        "id": "4sGpS6V5JaVZ",
        "colab_type": "text"
      },
      "source": [
        "# **Optimizing the model**\n",
        "* The 2 best model chosen for hyperparameter tuning \n"
      ]
    },
    {
      "cell_type": "code",
      "metadata": {
        "id": "iVQp-hOy00Pm",
        "colab_type": "code",
        "colab": {}
      },
      "source": [
        "def get_model_improvement(scores1,scores2):\n",
        "   return 100*((scores1- scores2)/scores1) \n",
        "  "
      ],
      "execution_count": 0,
      "outputs": []
    },
    {
      "cell_type": "markdown",
      "metadata": {
        "id": "Mpeq9aC8cyP6",
        "colab_type": "text"
      },
      "source": [
        "# SVR"
      ]
    },
    {
      "cell_type": "code",
      "metadata": {
        "id": "H8BY-t5EJ09Z",
        "colab_type": "code",
        "outputId": "ee2db571-9378-468e-e590-4aa4b9a67cc8",
        "colab": {
          "base_uri": "https://localhost:8080/",
          "height": 204
        }
      },
      "source": [
        "param_grid = [\n",
        "  {'C': [1, 10, 100, 1000], 'kernel': ['linear']},\n",
        "  {'C': [1, 10, 100, 1000], 'gamma': [0.1, 0.001, 0.0001], 'kernel': ['rbf']},\n",
        " ]\n",
        "svr = SVR()\n",
        "grid_search = GridSearchCV(svr, param_grid, cv=5,\n",
        "                           scoring='neg_mean_absolute_error',\n",
        "                           return_train_score=True)\n",
        "\n",
        "grid_search.fit(X_train_tr, y_train)"
      ],
      "execution_count": 186,
      "outputs": [
        {
          "output_type": "execute_result",
          "data": {
            "text/plain": [
              "GridSearchCV(cv=5, error_score=nan,\n",
              "             estimator=SVR(C=1.0, cache_size=200, coef0=0.0, degree=3,\n",
              "                           epsilon=0.1, gamma='scale', kernel='rbf',\n",
              "                           max_iter=-1, shrinking=True, tol=0.001,\n",
              "                           verbose=False),\n",
              "             iid='deprecated', n_jobs=None,\n",
              "             param_grid=[{'C': [1, 10, 100, 1000], 'kernel': ['linear']},\n",
              "                         {'C': [1, 10, 100, 1000],\n",
              "                          'gamma': [0.1, 0.001, 0.0001], 'kernel': ['rbf']}],\n",
              "             pre_dispatch='2*n_jobs', refit=True, return_train_score=True,\n",
              "             scoring='neg_mean_absolute_error', verbose=0)"
            ]
          },
          "metadata": {
            "tags": []
          },
          "execution_count": 186
        }
      ]
    },
    {
      "cell_type": "code",
      "metadata": {
        "id": "DIhlMHf9LUla",
        "colab_type": "code",
        "outputId": "c353aa23-be68-4632-f66d-34bada03a2a8",
        "colab": {
          "base_uri": "https://localhost:8080/",
          "height": 51
        }
      },
      "source": [
        " grid_search.best_estimator_"
      ],
      "execution_count": 187,
      "outputs": [
        {
          "output_type": "execute_result",
          "data": {
            "text/plain": [
              "SVR(C=1, cache_size=200, coef0=0.0, degree=3, epsilon=0.1, gamma=0.1,\n",
              "    kernel='rbf', max_iter=-1, shrinking=True, tol=0.001, verbose=False)"
            ]
          },
          "metadata": {
            "tags": []
          },
          "execution_count": 187
        }
      ]
    },
    {
      "cell_type": "code",
      "metadata": {
        "id": "d-yGfLSdL_z-",
        "colab_type": "code",
        "colab": {}
      },
      "source": [
        "scores = cross_val_score(grid_search.best_estimator_, X_train_tr, y_train, \n",
        "                         scoring = \"neg_mean_absolute_error\", cv=5)"
      ],
      "execution_count": 0,
      "outputs": []
    },
    {
      "cell_type": "code",
      "metadata": {
        "id": "ioO230soQj1Z",
        "colab_type": "code",
        "outputId": "107f37bd-ef44-4c5d-b76e-8887c0cd4c8d",
        "colab": {
          "base_uri": "https://localhost:8080/",
          "height": 68
        }
      },
      "source": [
        "display_scores(scores)"
      ],
      "execution_count": 189,
      "outputs": [
        {
          "output_type": "stream",
          "text": [
            "Scores: [-26.26131663 -21.49493654 -14.73992463  -9.59988778  -6.05723494]\n",
            "Mean: -15.630660105671208\n",
            "Standard deviation: 7.432559318657194\n"
          ],
          "name": "stdout"
        }
      ]
    },
    {
      "cell_type": "code",
      "metadata": {
        "id": "gOPKq0KBMnJl",
        "colab_type": "code",
        "colab": {}
      },
      "source": [
        "cvres = grid_search.cv_results_"
      ],
      "execution_count": 0,
      "outputs": []
    },
    {
      "cell_type": "markdown",
      "metadata": {
        "id": "IFacfgdpUNVs",
        "colab_type": "text"
      },
      "source": [
        "# Lasso"
      ]
    },
    {
      "cell_type": "code",
      "metadata": {
        "id": "vmls5ChTUMkV",
        "colab_type": "code",
        "outputId": "3e8a7abf-cb8a-4e62-d791-ddf5a0fdb574",
        "colab": {
          "base_uri": "https://localhost:8080/",
          "height": 221
        }
      },
      "source": [
        "param_grid = [\n",
        "  {'alpha': [0.1, 0.4, 0.6, 0.9], 'max_iter': [10000, 100000], 'tol':[0.0001,0.000001]},\n",
        "  {'alpha': [0.1, 0.3, 0.5, 0.8], 'max_iter': [15000,50000], 'tol':[0.0001,0.000001]},\n",
        " ]\n",
        "\n",
        "lasso = Lasso()\n",
        "grid_search_lasso = GridSearchCV(lasso, param_grid, cv=5,\n",
        "                           scoring='neg_mean_absolute_error',\n",
        "                           return_train_score=True)\n",
        "\n",
        "grid_search_lasso.fit(X_train_tr, y_train)"
      ],
      "execution_count": 193,
      "outputs": [
        {
          "output_type": "execute_result",
          "data": {
            "text/plain": [
              "GridSearchCV(cv=5, error_score=nan,\n",
              "             estimator=Lasso(alpha=1.0, copy_X=True, fit_intercept=True,\n",
              "                             max_iter=1000, normalize=False, positive=False,\n",
              "                             precompute=False, random_state=None,\n",
              "                             selection='cyclic', tol=0.0001, warm_start=False),\n",
              "             iid='deprecated', n_jobs=None,\n",
              "             param_grid=[{'alpha': [0.1, 0.4, 0.6, 0.9],\n",
              "                          'max_iter': [10000, 100000], 'tol': [0.0001, 1e-06]},\n",
              "                         {'alpha': [0.1, 0.3, 0.5, 0.8],\n",
              "                          'max_iter': [15000, 50000], 'tol': [0.0001, 1e-06]}],\n",
              "             pre_dispatch='2*n_jobs', refit=True, return_train_score=True,\n",
              "             scoring='neg_mean_absolute_error', verbose=0)"
            ]
          },
          "metadata": {
            "tags": []
          },
          "execution_count": 193
        }
      ]
    },
    {
      "cell_type": "code",
      "metadata": {
        "id": "TgEweLIuXXSC",
        "colab_type": "code",
        "colab": {}
      },
      "source": [
        "lasso_scores = cross_val_score(grid_search_lasso.best_estimator_, X_train_tr, y_train, \n",
        "                         scoring = \"neg_mean_absolute_error\", cv=5)"
      ],
      "execution_count": 0,
      "outputs": []
    },
    {
      "cell_type": "code",
      "metadata": {
        "id": "zmHzKP-tXdWP",
        "colab_type": "code",
        "outputId": "7ae3cacc-d455-4053-9cdb-07ad38c0fc4c",
        "colab": {
          "base_uri": "https://localhost:8080/",
          "height": 68
        }
      },
      "source": [
        "display_scores(-lasso_scores)"
      ],
      "execution_count": 195,
      "outputs": [
        {
          "output_type": "stream",
          "text": [
            "Scores: [22.00604527 21.06128662 23.51497751 10.37727335  8.2728073 ]\n",
            "Mean: 17.04647800960256\n",
            "Standard deviation: 6.387692383309894\n"
          ],
          "name": "stdout"
        }
      ]
    },
    {
      "cell_type": "code",
      "metadata": {
        "id": "GfEUef3IZxDA",
        "colab_type": "code",
        "colab": {
          "base_uri": "https://localhost:8080/",
          "height": 51
        },
        "outputId": "1e0a65a4-b315-4e9e-c74b-77429395b5dd"
      },
      "source": [
        "lasso_improvement = get_model_improvement(17.12833972956241,17.04647800960256)\n",
        "svc_improvement = get_model_improvement(15.639080484016224,15.630660105671208)\n",
        "print('lasso Improvement: {:2.2}%'.format(lasso_improvement))\n",
        "print('SVC Improvement: {:2.2}%'.format(svc_improvement))"
      ],
      "execution_count": 196,
      "outputs": [
        {
          "output_type": "stream",
          "text": [
            "lasso Improvement: 0.48%\n",
            "SVC Improvement: 0.054%\n"
          ],
          "name": "stdout"
        }
      ]
    },
    {
      "cell_type": "markdown",
      "metadata": {
        "id": "w7CADVPfcMS7",
        "colab_type": "text"
      },
      "source": [
        "# **Validating the models using the validation set** "
      ]
    },
    {
      "cell_type": "code",
      "metadata": {
        "id": "5KZNmrz_ycEM",
        "colab_type": "code",
        "colab": {
          "base_uri": "https://localhost:8080/",
          "height": 34
        },
        "outputId": "cec17ab5-039b-47e6-e778-909ca6325fe7"
      },
      "source": [
        "# SVC Validation\n",
        "final_model_svr = grid_search.best_estimator_\n",
        "final_predictions = final_model_svr.predict(X_val_tr)\n",
        "final_mae = mean_absolute_error(y_val, final_predictions)\n",
        "print('svc mae: {:2}'.format(final_mae))"
      ],
      "execution_count": 235,
      "outputs": [
        {
          "output_type": "stream",
          "text": [
            "svc mae: 15.400543846821773\n"
          ],
          "name": "stdout"
        }
      ]
    },
    {
      "cell_type": "markdown",
      "metadata": {
        "id": "n2SVJMKNJYtQ",
        "colab_type": "text"
      },
      "source": [
        "**SVC performs OK on the validation data, with a mae score of 15.4 compared to 15.6 on the train data**"
      ]
    },
    {
      "cell_type": "markdown",
      "metadata": {
        "id": "k4Qw4Gc4cDO5",
        "colab_type": "text"
      },
      "source": [
        "# **Submision**"
      ]
    },
    {
      "cell_type": "code",
      "metadata": {
        "id": "b0X2aGomcJ2H",
        "colab_type": "code",
        "colab": {}
      },
      "source": [
        "#cvres = grid_search.cv_results_\n",
        "#for mean_score, params in zip(cvres[\"mean_test_score\"], cvres[\"params\"]):\n",
        "#  print(np.sqrt(-mean_score), params)"
      ],
      "execution_count": 0,
      "outputs": []
    },
    {
      "cell_type": "code",
      "metadata": {
        "id": "4lPF8BIKcgjo",
        "colab_type": "code",
        "colab": {}
      },
      "source": [
        "final_model_svr = grid_search.best_estimator_\n",
        "final_predictions = final_model_svr.predict(X_test_tr)\n",
        "final_predictions = np.round(final_predictions,decimals=0)"
      ],
      "execution_count": 0,
      "outputs": []
    },
    {
      "cell_type": "code",
      "metadata": {
        "id": "Klt1O0dqc8-Z",
        "colab_type": "code",
        "colab": {}
      },
      "source": [
        "submission = X_test[[\"city\", \"year\",\"weekofyear\"]]\n",
        "\n",
        "submission.insert(3,'total_cases',final_predictions)\n",
        "\n",
        "submission.to_csv('submission_format.csv', index=False)\n",
        "\n",
        "submission = pd.read_csv('submission_format.csv')\n",
        "files.download('submission_format.csv')"
      ],
      "execution_count": 0,
      "outputs": []
    },
    {
      "cell_type": "code",
      "metadata": {
        "id": "r2ErJWFGc99h",
        "colab_type": "code",
        "colab": {}
      },
      "source": [
        ""
      ],
      "execution_count": 0,
      "outputs": []
    },
    {
      "cell_type": "code",
      "metadata": {
        "id": "HMRm3QWjdKlI",
        "colab_type": "code",
        "colab": {}
      },
      "source": [
        ""
      ],
      "execution_count": 0,
      "outputs": []
    },
    {
      "cell_type": "markdown",
      "metadata": {
        "id": "YFOZKuRMR1ya",
        "colab_type": "text"
      },
      "source": [
        "# **Summary and Conclusions**"
      ]
    },
    {
      "cell_type": "code",
      "metadata": {
        "id": "sBPI9lxsR8zH",
        "colab_type": "code",
        "colab": {}
      },
      "source": [
        ""
      ],
      "execution_count": 0,
      "outputs": []
    }
  ]
}